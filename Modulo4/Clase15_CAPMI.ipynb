{
 "cells": [
  {
   "cell_type": "markdown",
   "metadata": {},
   "source": [
    "# Modelo de valoración de activos financieros (CAPM)\n",
    "\n",
    "<img style=\"float: right; margin: 0px 0px 15px 15px;\" src=\"https://upload.wikimedia.org/wikipedia/commons/4/48/Capital_market_line_of_CAPM.svg\" width=\"400px\" height=\"400px\" />\n",
    "\n",
    "En el módulo anterior aprendimos \n",
    "- cómo medir la utilidad de los inversionistas; \n",
    "- que el proceso de selección de portafolios tiene dos pasos:\n",
    " - elegir el mejor portafolio de todos los activos riesgosos (EMV: máximo sharpe), y\n",
    " - decidir cuánto invertir en el portafolio EMV y el activo libre de riesgo;\n",
    "- que el proceso de elección del portafolio EMV no involucra preferencias de inversionistas, es decir:\n",
    " - todos los inversionistas tenemos el mismo portafolio EMV;\n",
    "- las preferencias se expresan en el segundo paso: LAC.\n",
    "\n",
    "En este capítulo nos apoyaremos de todo el desarrollo teórico que hicimos en el capítulo pasado para desarrollar el **modelo de valoración de activos financieros (CAPM)**.\n",
    "\n",
    "**Objetivos:**\n",
    "- Entender, intuitivamente, qué es el CAPM.\n",
    "- Asimilar las suposiciones sobre las que se construye el CAPM.\n",
    "- Derivar la fórmula del CAPM con base en la teoría moderna de portafolios.\n",
    "\n",
    "\n",
    "*Referencia:*\n",
    "- Notas del curso \"Portfolio Selection and Risk Management\", Rice University, disponible en Coursera.\n",
    "- [Notas del curso \"Financial Engineering\", Columbia University](http://www.columbia.edu/~ks20/FE-Notes/FE-Notes-Sigman.html)\n",
    "___"
   ]
  },
  {
   "cell_type": "markdown",
   "metadata": {},
   "source": [
    "## 1. Introducción\n",
    "\n",
    "- ¿Cómo se deben determinar los precios de los activos financieros en el equilibrio?, o\n",
    "- ¿qué debe determinar los rendimientos esperados en equilibrio?\n",
    "\n",
    "En todo el curso hemos desarrollado técnicas analíticas para medir el riesgo y evaluar la compensación de rendimiento al riesgo. En este momento, todos deberíamos estar de acuerdo que el riesgo debe ser premiado... pero, <font color=green> ¿cuánto?</font>"
   ]
  },
  {
   "cell_type": "markdown",
   "metadata": {},
   "source": [
    "En este módulo trabajaremos sobre las bases de la teoría moderna de portafolios que vimos el módulo pasado.\n",
    "- Vimos que la diversificación elimina una parte, más no todo el reisgo.\n",
    "\n",
    "Sucedió que luego de la publicación de la idea de Markowitz, entonces otros tres académicos:\n",
    "- William Sharpe,\n",
    "- John Lintner, y \n",
    "- Fisher Black\n",
    "\n",
    "empezaron a trabajar en el problema de determinar qué parte del riesgo puede ser eliminada mediante diversificación qué parte no. Esto en los años 70."
   ]
  },
  {
   "cell_type": "markdown",
   "metadata": {},
   "source": [
    "- Este esfuerzo, condujo al **modelo de valoración de activos financieros (CAPM - Capital Asset Pricing Model)**.\n",
    "\n",
    "- Intuitivamente, lo que dice el **CAPM** es muy simple: *no debe haber premio por asumir riesgo que puede ser diversificado*.\n",
    "\n",
    "- De manera que para obtener rendimientos (esperados) más altos, se necesita incrementar el nivel de riesgo que no puede ser diversificado, el cual está medido por el $\\beta$.\n",
    "\n",
    "- De forma que el **CAPM** dice que el premio al riesgo de un activo está unicamente determinado por su $\\beta$.\n",
    "\n",
    "- Fue practicado masivamente por inversionistas y analistas durante los 70's, 80's y principios de los 90's, y le dió a Sharpe un Premio Nobel por su contribución al trabajo que compartió con Markowitz."
   ]
  },
  {
   "cell_type": "markdown",
   "metadata": {},
   "source": [
    "<img style=\"float: right; margin: 0px 0px 15px 15px;\" src=\"https://upload.wikimedia.org/wikipedia/commons/f/f5/Eugene_Fama_at_Nobel_Prize%2C_2013.jpg\" width=\"400px\" height=\"400px\" />\n",
    "\n",
    "- Sin embargo, luego de cientos y cientos de estudios empíricos, sabemos que el **CAPM** no funciona tan bien. De hecho, en un estudio publicado en 1992 ([artículo acá](https://www.ivey.uwo.ca/cmsmedia/3775518/the_cross-section_of_expected_stock_returns.pdf)), Eugene Fama y Keneth French dividen todos los activos negociados en 10 grupos basados en sus $\\beta$:\n",
    " - grupo 1: contiene el $10\\%$ de los activos con los betas más bajos;\n",
    " - ...\n",
    " - gurpo 10: contiene el $10\\%$ de los activos con los betas más altos.\n",
    "\n",
    "- Lo que mostraron esencialmente es que no hay relación entre los rendimientos de esos 10 porafolios y sus $\\beta$ promedio. Relación plana.\n",
    "\n",
    "- Para medidados de los 90's todo el mundo pensó que el **CAPM** estaba muerto, y comenzaron a buscar otros modelos de fijación de precio: modelos multifactor (veremos un resumen al final del módulo)."
   ]
  },
  {
   "cell_type": "markdown",
   "metadata": {},
   "source": [
    "- ¿Porqué estudiamos entonces **CAPM** si sabemos que no es correcto? Bien, **CAPM** es aún ampliamente usado y provee un marco de trabajo e ideas intuitivas que nos ayudan a pensar acerca del riesgo. \n",
    "\n",
    "- También, entender el **CAPM** y sus fallas es fundamental para entender otros modelos.\n",
    "___"
   ]
  },
  {
   "cell_type": "markdown",
   "metadata": {},
   "source": [
    "## 2. De la selección óptima de portafolios al CAPM\n",
    "\n",
    "### 2.1. Suposiciones del CAPM."
   ]
  },
  {
   "cell_type": "markdown",
   "metadata": {},
   "source": [
    "Para obtener el **CAPM**, nos ponemos en la siguiente situación:\n",
    "\n",
    "- mercado idealizado, donde todos los activos riesgosos (todas las acciones que se puedan negociar) están **disponibles para todos**;\n",
    "- en adición tenemos un  activo libre de riesgo (para prestar o tomar prestado cantidades ilimitadas) con una tasa de interés $r_f$;\n",
    "- la información, tal como covarianzas, varianzas y rendimientos esperados, está disponible para todos y es la misma;\n",
    "- todos somos inversionistas **racionales** y **aversos al riesgo**, y usamos la misma teoría de Markowitz para la selección de portafolios;"
   ]
  },
  {
   "cell_type": "markdown",
   "metadata": {},
   "source": [
    "Bajo todas estas suposiciones (que no son para nada débiles), es fácil concluir que como todos tenemos el mismo conjunto de activos, la misma información, y los mismos métodos de decisión, todos tenemos el mismo portafolio EMV y lo combinamos de acuerdo a nuestras preferencias particulares con el activo libre de riesgo.\n",
    "\n",
    "En otras palabras, todos resolvemos el mismo problema de optimización, hacemos los mismos cálculos y obtenemos la misma respuesta.\n",
    "\n",
    "Aunque las suposiciones son muy fuertes, y hace que el modelo no sea válido (los datos evidiencian que no lo es), todavía lo enseñamos, todavía lo usamos, y **trabaja suficientemente bien para la mayoría de aplicaciones**."
   ]
  },
  {
   "cell_type": "markdown",
   "metadata": {},
   "source": [
    "- Bueno, volviendo a lo anterior, este portafolio EMV común a todos que contiene todos los activos del mercado lo llamamos **portafolio de mercado**.\n",
    "\n",
    "- El hecho de que sea el mismo para todos nos lleva a concluir de que debe ser calculable sin usar los métodos de optimización de Markowitz, ¿porqué?\n",
    "\n",
    "- El mercado ya está en equilibrio (todos invertimos de la misma manera en los mismos activos, nadie quiere cambiar nada porque todos estamos obteniendo la utilidad máxima)."
   ]
  },
  {
   "cell_type": "markdown",
   "metadata": {},
   "source": [
    "Ejemplo mental: suponga que vemos que el activo de IBM no entra en el portafolio de mercado, esto es $w_{IBM}=0$. ¿Qué indica esto?\n",
    "\n",
    "Bueno, si todos estamos optimizando y le damos un peso de cero a IBM en el portafolio, debe ser que el precio de IBM es muy alto, o que su **rendimiento esperado es muy bajo para su medida de riesgo**. ¿Qué pasará?\n",
    "\n",
    "Pues que, por ley de oferta-demanda, el precio de IBM debe bajar hasta que sea incluido en el portafolio.\n",
    "\n",
    "**Por esto el CAPM es un modelo de valoración en el equilibrio**."
   ]
  },
  {
   "cell_type": "markdown",
   "metadata": {},
   "source": [
    "- Con base en lo anterior, el peso para cualquier activo en el protafolio de mercado está dado por su capitalización (valor total de sus acciones) dividida por la capitalización total del mercado.\n",
    "\n",
    "- Ejemplo: si el activo $i$ corresponde a accions en la Compañía A, la cual tiene $10,000$ acciones y cada una vale $\\$20.00$, entonces la capitalización de este activo es $V_i=10,000\\times\\$20=\\$200,000$. Si calculamos este valor para cada activo y lo sumamos, tenemos la capitalización total del mercado $V=V_1+\\dots+V_n$, y el peso $w_i=\\frac{V_i}{V}$ es el peso usado para el activo $i$ en el portafolio.\n",
    "\n",
    "- Entonces, al final no necesitamos todos los datos de rendimientos, medias, varianzas y covarianzas, sino únicamente la capitalización $V_i$ de cada activo."
   ]
  },
  {
   "cell_type": "markdown",
   "metadata": {},
   "source": [
    "Observaciones:\n",
    "1. Todos los pesos $w_i$ son positivos.\n",
    "2. Todos los activos en el mercado tienen capitalización positiva, entonces todos están incluidos en el portafolio de mercado.\n",
    "3. Concepto clave 1: la inversión pasiva es eficiente."
   ]
  },
  {
   "cell_type": "markdown",
   "metadata": {},
   "source": [
    "### 2.2. Línea de mercado de capital (LMC)\n",
    "\n",
    "En el mundo de CAPM, el portafolio de mercado es el portafolio EMV. Entonces, la línea de asignación de capital, que va desde el activo libre de riesgo y pasa por el portafolio de mercado, se llama hora la **Línea de mercado de capital**.\n",
    "\n",
    "Sea $(\\sigma_M, E[r_M])$ el punto que denota el portafolio de mercado. Entonces, un inversionista racional tendrá un portafolio $(\\sigma, E[r])$ que satisface:\n",
    "\n",
    "$$E[r]=r_f+\\frac{E[r_M]-r_f}{\\sigma_M}\\sigma.$$"
   ]
  },
  {
   "cell_type": "markdown",
   "metadata": {},
   "source": [
    "**Teorema (Fórmula de CAPM).** Para cualquier activo $i$, \n",
    "\n",
    "$$E[r_i]-r_f=\\beta_i(E[r_M]-r_f),$$\n",
    "\n",
    "donde $\\beta_i=\\frac{\\sigma_{M,i}}{\\sigma_M^2}$ y $\\sigma_{M,i}$ es la covarianza del portafolio de mercado con el activo individual $i$."
   ]
  },
  {
   "cell_type": "markdown",
   "metadata": {},
   "source": [
    "<font color=green> Demostración en el tablero </font>"
   ]
  },
  {
   "cell_type": "markdown",
   "metadata": {},
   "source": [
    "**Corolario (Beta de portafolio)**. Para un portafolio de $n$ activos riesgosos, cuyos pesos son $w_1, w_2,\\dots, w_n$, se tiene que\n",
    "\n",
    "$$E[r_p]-r_f=\\beta_p(E[r_M]-r_f),$$\n",
    "\n",
    "donde $\\beta_p=\\frac{\\sigma_{M,p}}{\\sigma_M^2}=\\sum_{i=1}^nw_i\\beta_i$, donde $\\beta_i$ son las betas de los activos individuales."
   ]
  },
  {
   "cell_type": "markdown",
   "metadata": {},
   "source": [
    "<font color=green> Quien primero lo demuestre y salga al tablero a probarlo, le subo a 100 alguna tarea o quiz. </font>"
   ]
  },
  {
   "cell_type": "markdown",
   "metadata": {},
   "source": [
    "Observaciones:\n",
    "\n",
    "- **Concepto clave**: el riesgo de un activo no es su volatilidad, sino también cómo se mueve respecto a los demás activos.\n",
    "- $\\beta$ es una medida del **riesgo sistemático**.\n",
    "- $\\beta$ nos dice qué tanto se mueve el activo (portafolio) con movimientos del mercado.\n",
    "- Note que cuando $\\beta_p=1$, entonces $E[r_p]=E[r_M]$.\n",
    "- Si $\\beta_p>1$, entonces $E[r_p]>E[r_M]$.\n",
    "- Si $\\beta_p<1$, entonces $E[r_p]<E[r_M]$.\n",
    "- Incluso, si un activo $i$ está negativamente correlacionado con el portafolio de mercado $\\sigma_{M,i}<0$, entonces $E[r_i]<r_f$. Efectivamente, un activo negativamente correlacionado sirve como seguro ante tiempos malos en el mercado y puede tener ventajas como para verlo atractivo aún teniendo tan bajo rendimiento. Ciertos commodities como el oro, se piensan de esta manera de vez en cuando."
   ]
  },
  {
   "cell_type": "markdown",
   "metadata": {},
   "source": [
    "## La siguiente clase...\n",
    "\n",
    "### 1. Veremos como estimar betas.\n",
    "### 2. [Nota interesante acerca de inversiones pasivas](https://web.stanford.edu/~wfsharpe/art/parable/parable.htm). Léanla, la discutiremos iniciando la clase.\n",
    "### 3. Un par de artículos más sobre lo anterior: [artículo 1](https://www.wsj.com/articles/the-dying-business-of-picking-stocks-1476714749) y [artículo 2](https://www.wsj.com/articles/SB10001424127887323689604578217944033194874). Éstos son opcionales.\n",
    "### 4. Revisar calendario.\n",
    "### 5. [Enlace para calificaciones](https://docs.google.com/spreadsheets/d/1BwI1Mm7B3xxJ-jQIQEDQ_WdRHyehZrQBpHGd0hY9fU4/edit?usp=sharing)"
   ]
  },
  {
   "cell_type": "markdown",
   "metadata": {},
   "source": [
    "<script>\n",
    "  $(document).ready(function(){\n",
    "    $('div.prompt').hide();\n",
    "    $('div.back-to-top').hide();\n",
    "    $('nav#menubar').hide();\n",
    "    $('.breadcrumb').hide();\n",
    "    $('.hidden-print').hide();\n",
    "  });\n",
    "</script>\n",
    "\n",
    "<footer id=\"attribution\" style=\"float:right; color:#808080; background:#fff;\">\n",
    "Created with Jupyter by Esteban Jiménez Rodríguez.\n",
    "</footer>"
   ]
  }
 ],
 "metadata": {
  "kernelspec": {
   "display_name": "Python 3",
   "language": "python",
   "name": "python3"
  },
  "language_info": {
   "codemirror_mode": {
    "name": "ipython",
    "version": 3
   },
   "file_extension": ".py",
   "mimetype": "text/x-python",
   "name": "python",
   "nbconvert_exporter": "python",
   "pygments_lexer": "ipython3",
   "version": "3.7.6"
  }
 },
 "nbformat": 4,
 "nbformat_minor": 2
}
