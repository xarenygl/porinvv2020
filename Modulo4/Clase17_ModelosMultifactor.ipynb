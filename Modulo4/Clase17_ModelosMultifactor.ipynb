{
 "cells": [
  {
   "cell_type": "markdown",
   "metadata": {},
   "source": [
    "# Modelos multifactor\n",
    "\n",
    "<img style=\"float: right; margin: 0px 0px 15px 15px;\" src=\"https://upload.wikimedia.org/wikipedia/en/f/f3/SML-chart.png\" width=\"400px\" height=\"400px\" />\n",
    "\n",
    "> La relación entre rendimiento y riesgo es una constante en el mundo de las finanzas. De esa relación se ha derivado la teoría de portafolios, modelos de valuación de activos riesgosos, entre otros.\n",
    "\n",
    "> Vimos en el segundo y tercer módulo que la teoría de selección de portafolios es en realidad un modelo de media y varianza, y que la información requerida para alimentar este modelo es muy grande, y esto crece a medida que el número de activos aumentan.\n",
    "\n",
    "> Sin embargo, a través de varios estudios (unos formales, otros no tanto), se ha concluido que la aletoriedad en los rendimientos en los activos puede ser explicada por un número reducido de **factores**.\n",
    "\n",
    "> Las últimas clases las hemos dedicado a la obtención y al estudio de uno de los modelos más importantes históricamente en cuanto a finanzas: **El CAPM - Capital Asset Pricing Model**.\n",
    "\n",
    "> Este modelo se puede entender como: los rendimientos de un activo están explicadas únicamente por los movimientos del mercado.\n",
    "\n",
    "> $$r_i=r_f+\\beta_i(r_M-r_f)+\\epsilon_i,$$\n",
    "\n",
    "> Es decir, toda la aleatoriedad presente en los rendimientos de un activo es proporcional (con $\\beta$ como constante de proporcionalidad) a un único factor: **exceso de rendimiento del mercado**. \n",
    "\n",
    "> Como sabemos, Eugene Fama y Keneth French demostraron con datos en este [artículo](https://www.ivey.uwo.ca/cmsmedia/3775518/the_cross-section_of_expected_stock_returns.pdf), que en realidad este modelo no es tan bueno. Sin embargo, partiendo de la estructura del CAPM se pueden proponer modelos para explicar los rendimientos que dependan de más de un factor:\n",
    "\n",
    "> $$r_i=a_i+b_if_1+c_if_2+\\epsilon_i,$$ donde $f_1$ y $f_2$ son factores explicativos.\n",
    "\n",
    "> Si bien de esta manera podemos aumentar la explicabilidad de los rendimientos, ya este tipo de modelos no lo podemos obtener mediante una base teórica, sino más bien con base experimental-estadística.\n",
    "\n",
    "\n",
    "**Objetivos:**\n",
    "- Entender qué son los modelos multifactor.\n",
    "- Factores como fuentes adicionales de riesgo.\n",
    "\n",
    "\n",
    "*Referencia:*\n",
    "- Notas del curso \"Portfolio Selection and Risk Management\", Rice University, disponible en Coursera.\n",
    "- [El modelo de tres factores de Fama y French aplicado al mercado español](https://repositorio.comillas.edu/xmlui/bitstream/handle/11531/1179/TFM000161.pdf)\n",
    "___"
   ]
  },
  {
   "cell_type": "markdown",
   "metadata": {},
   "source": [
    "## <font color=green> Conclusiones de la lectura. </font>"
   ]
  },
  {
   "cell_type": "markdown",
   "metadata": {},
   "source": [
    "## 1. Una visión general del curso...\n",
    "\n",
    "### 1.1. Teoría de portafolios.\n",
    "\n",
    "La teoría de portafolios y de los modelos de valoración de activos comienzan con Markowitz y todas las deducciones que hicimos en los módulos pasados en el espacio de rendmiento esperado vs. volatilidad (riesgo).\n",
    "\n",
    "Esta teoría tiene varios supuestos:\n",
    "\n",
    "- los inversionistas toman decisiones importándonos únicamente media y varianza de rendimientos;\n",
    "- los inversionistas son aversos al riesgo;\n",
    "- los mercados son perfectos, entre otros."
   ]
  },
  {
   "cell_type": "markdown",
   "metadata": {},
   "source": [
    "Con ello se puede determinar un portafolio de mínima varianza que determina la existencia de una frontera eficiente, que consta de los portafolios que ofrecen las mejores combinaciones de rendimiento esperado y volatilidad para los inversionistas. <font color=green> Hasta acá, el segundo módulo. </font>\n",
    "\n",
    "Es la base de todos los desarrollos posteriores en finanzas, pero es un modelo de un solo periodo de inversión muy restrictivo al solo fijarse en medias y varianzas.\n",
    "\n",
    "Al incluirse un activo libre de riesgo en el modelo (Cetes, T-bills, etc.) el modelo se vuelve un poco más real, dado que permite a los inversionistas prestar o pedir prestado.\n",
    "\n",
    "Entonces se combinan este activo libre de riesgo con el mejor portafolio sobre la frontera eficiente, formándose una nueva frontera eficiente. Allí vimos que el portafolio con el que combinamos es único para todos los inversionistas. Con esto se da paso al CAPM."
   ]
  },
  {
   "cell_type": "markdown",
   "metadata": {},
   "source": [
    "### 1.2. CAPM\n",
    "\n",
    "El CAPM (Capital Asset Pricing Model) es el modelo de valoración de activos más conocido, aunque no solo se utiliza para valorar activos.\n",
    "\n",
    "Tiene varios supuestos:\n",
    "- los inversionistas optimizan utilidad media-varianza;\n",
    "- los mercados son perfectos (misma información);\n",
    "- un activo libre de riesgo."
   ]
  },
  {
   "cell_type": "markdown",
   "metadata": {},
   "source": [
    "El CAPM concluye que el mejor portafolio es el portafolio de mercado. Entonces, bajo los supuestos del CAPM, todos los inversionistas compran en portafolio de mercado y lo combinan con el activo libre de riesgo, formando la línea de mercado de activos.\n",
    "\n",
    "Con lo anterior, el CAPM relaciona el exceso de rendimiento esperado de un activo proporcionalmente al exceso de rendimiento esperado del portafolio de mercado\n",
    "\n",
    "$$E[r_i]-r_f=\\beta_i(E[r_M]-r_f),$$\n",
    "\n",
    "y el factor de proporcionalidad $\\beta_i$ está asociado con el riesgo sistemático del activo en cuestión.\n",
    "\n",
    "Que el CAPM diga que todos los inversionistas posean el portafolio de mercado pone en duda su practicidad.\n",
    "___"
   ]
  },
  {
   "cell_type": "markdown",
   "metadata": {},
   "source": [
    "## 2. Factores que pueden explicar rendimientos.\n",
    "\n",
    "La selección de factores es algo muy complejo. Básicamente, un modelo de dos factores se puede expresar como \n",
    "\n",
    "$$r_i=a_i+b_if_1+c_if_2+\\epsilon_i,$$ \n",
    "\n",
    "donde $f_1$ y $f_2$ son factores.\n",
    "\n",
    "- Ciertamente, seleccionando los factores correctamente, se puede suponer que el término de error $\\epsilon_i$ no tiene correlación lo los factores.\n",
    "- Sin embargo, no se puede garantizar que los factores no estén correlacionados entre sí.\n",
    "- Que los factores no tengan correlación es una característica deseada, para tener causas completamente separadas que expliquen un efecto.\n",
    "\n",
    "Esto mismo aplica para modelos de más factores."
   ]
  },
  {
   "cell_type": "markdown",
   "metadata": {},
   "source": [
    "Comúnmente se dividen los factores en tres tipos:\n",
    "\n",
    "- Factores externos: PIB, tasa de inflación o tasas de interés.\n",
    "\n",
    "- Factores extraídos: factores ya conocidos. Por ejemplo, como el exceso de rendimiento del portafolio de mercado de CAPM.\n",
    "\n",
    "- Características propias de la empresa: PER (Price Earning Ratio), el book-to-market equity (diferencia de valor entre el valor bursátil y el valor en libros), entre otros."
   ]
  },
  {
   "cell_type": "markdown",
   "metadata": {},
   "source": [
    "## 3. Modelo de tres factores de Fama y French.\n",
    "\n",
    "Dado que mostraron a través de datos que el CAPM no explicaba correctamente los rendimientos, Eugene Fama y Keneth French presentaron un modelo de tres factores para la valoración de activos.\n",
    "\n",
    "El modelo dice que el rendimiento esperads de un activo está determinado por tres factores:\n",
    "1. El exceso de rentabilidad del mercado respecto a un activo libre de riesgo determinado (como CAPM).\n",
    "2. La diferencia del rendimiento de las acciones de pequeña capitalización menos el rendimiento de las acciones de más capitalización (factor de tamaño).\n",
    "3. La diferencia del rendimiento de las empresas con un alto book-to-market equity (diferencia entre valor en libros y valor bursátil) y las empresas con un bajo book-to-market equity (factor de valor)."
   ]
  },
  {
   "cell_type": "markdown",
   "metadata": {},
   "source": [
    "Entonces, Fama y French dicen que el rendimiento esperado de un activo es\n",
    "\n",
    "$$E[r_i]=r_f+\\beta_{M,i}(E[r_M]-r_f)+\\beta_{S,i}E[SMB]+\\beta_{V,i}E[HML],$$"
   ]
  },
  {
   "cell_type": "markdown",
   "metadata": {},
   "source": [
    "donde\n",
    "- $E[SMB]$ es la diferencia de rendimientos esperados de acciones de pequeña capitalización menos rendimientos esperados de acciones de alta capitalización.\n",
    "- $E[HML]$ es la diferencia de rendimientos esperados de acciones de alto B/M menos rendimientos esperados de acciones de bajo B/M.\n",
    "\n",
    "Los demás ítems ya los conocemos."
   ]
  },
  {
   "cell_type": "markdown",
   "metadata": {},
   "source": [
    "**Observaciones:** (del trabajo de Fama y French)\n",
    "\n",
    "1. El factor de mercado por sí solo (CAPM) obtiene R cuadrados menores a 0.8 o 0.7, dejando todavía mucha variación por explicar.\n",
    "\n",
    "2. Los factores SMB y HML, sin el factor de mercado, son capaces de obtener R cuadrados de 0.2 hasta 0.5 (según el conjunto de empresas que se analicen). De igual manera dejan mucha variación por explicar.\n",
    "\n",
    "3. Los tres factores conjuntamente, tienen una gran capacidad de explicación de las variaciones en el mercado de acciones. Se consiguen R cuadrados normalmente superiores a 0.9.\n",
    "___"
   ]
  },
  {
   "cell_type": "markdown",
   "metadata": {},
   "source": [
    "# Anuncios parroquiales.\n",
    "\n",
    "## 1. La siguiente clase es de repaso. El repaso lo hacen ustedes, no yo.\n",
    "\n",
    "## 2. Evaluación módulos 3 y 4. Martes 7 de Julio.\n",
    "\n",
    "## 4. Ver clase 0 para revisar objetivos."
   ]
  },
  {
   "cell_type": "markdown",
   "metadata": {},
   "source": [
    "<script>\n",
    "  $(document).ready(function(){\n",
    "    $('div.prompt').hide();\n",
    "    $('div.back-to-top').hide();\n",
    "    $('nav#menubar').hide();\n",
    "    $('.breadcrumb').hide();\n",
    "    $('.hidden-print').hide();\n",
    "  });\n",
    "</script>\n",
    "\n",
    "<footer id=\"attribution\" style=\"float:right; color:#808080; background:#fff;\">\n",
    "Created with Jupyter by Esteban Jiménez Rodríguez.\n",
    "</footer>"
   ]
  }
 ],
 "metadata": {
  "kernelspec": {
   "display_name": "Python 3",
   "language": "python",
   "name": "python3"
  },
  "language_info": {
   "codemirror_mode": {
    "name": "ipython",
    "version": 3
   },
   "file_extension": ".py",
   "mimetype": "text/x-python",
   "name": "python",
   "nbconvert_exporter": "python",
   "pygments_lexer": "ipython3",
   "version": "3.7.6"
  }
 },
 "nbformat": 4,
 "nbformat_minor": 2
}
