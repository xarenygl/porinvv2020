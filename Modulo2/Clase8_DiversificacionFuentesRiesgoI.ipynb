{
 "cells": [
  {
   "cell_type": "markdown",
   "metadata": {},
   "source": [
    "# Diversificación y fuentes de riesgo en un portafolio I\n",
    "\n",
    "<img style=\"float: right; margin: 0px 0px 15px 15px;\" src=\"data:image/jpeg;base64,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\" width=\"450px\" height=\"300px\" />\n",
    "\n",
    "> Las dos clases pasadas vimos entonces como medir el rendimiento esperado y la volatilidad (varianza) de un portafolio conociendo los rendimientos esperados, las volatilidades (varianzas), y covarianzas (correlaciones) entre sí, de los activos individuales.\n",
    "\n",
    "> **Aspecto clave:** incluso cuando los activos individuales son riesgosos, mientras haya cierta falta de paralelismo de su suerte en la economía, combinarlos en un portafolio crea **diversificación** y reduce el riesgo.\n",
    "\n",
    "> En términos coloquiales, \"*no poner todo el blanquillo en una sola canasta*\" (\"don't put all your eggs in a single basket\").\n",
    "\n",
    "> ¿Cómo medir la falta de paralelismo? $\\Rightarrow$ **Correlación**."
   ]
  },
  {
   "cell_type": "markdown",
   "metadata": {},
   "source": [
    "**Objetivos:**\n",
    "- ¿Porqué la diversificación reduce el riesgo?\n",
    "- ¿Qué es riesgo sistemático?\n",
    "- ¿Qué es riesgo idiosincrático (no sistemático)?\n",
    "\n",
    "*Referencia:*\n",
    "- Notas del curso \"Portfolio Selection and Risk Management\", Rice University, disponible en Coursera.\n",
    "___"
   ]
  },
  {
   "cell_type": "markdown",
   "metadata": {},
   "source": [
    "## 1. Diversificación y riesgo en un portafolio.\n",
    "\n",
    "### 1.1. Efecto de la correlación en un portafolio con dos activos.\n",
    "\n",
    "Revisemos la siguiente situación:\n",
    "\n",
    "1. Supongamos que dos activos se mueven exactamente en tándem. \n",
    " - ¿Construir un portafolio con dichos activos reduciría el riesgo?\n",
    " - Su coeficiente de correlación es $\\rho=+1.0$, y no habría beneficio de diversificación.\n",
    " \n",
    "2. Ahora, típicamente esto no es posible. Los rendimientos de dos compañías distintas no se mueven exactamente igual. \n",
    " - Esto nos provee mucho portencial para diversificar el riesgo poniendo dos activos distintos en un portafolio.\n",
    " - Y, ahora, la buena noticia: la correlación entre dos activos no tiene que ser necesariamente negativa para poder reducir el riesgo mediante diversificación."
   ]
  },
  {
   "cell_type": "markdown",
   "metadata": {},
   "source": [
    "| Coeficiente de correlación | Efecto en la diversificación           |\n",
    "| -------------------------- | -------------------------------------- |\n",
    "| +1.0                       | No es posible reducir riesgo           |\n",
    "| +0.5                       | Reducción de riesgo moderada           |\n",
    "| 0                          | Reducción de riesgo considerable       |\n",
    "| -0.5                       | Casi todo el riesgo puede ser eliminado|\n",
    "| -1.0                       | Todo el riesgo puede ser eliminado     |"
   ]
  },
  {
   "cell_type": "markdown",
   "metadata": {},
   "source": [
    "### 1.2 Ilustración gráfica con dos activos.\n",
    "\n",
    "#### <font color = blue> Ver en el tablero... </font>\n",
    "\n",
    "- Supongamos que tenemos dos activos: $A$ y $B$.\n",
    "- Vamos a graficar en el espacio de rendimiento esperado $E[r]$, en el eje de las ordenadas (eje $y$), contra volatilidad $\\sigma$, en el eje de las abscisas (eje $x$).\n",
    "- El punto etiquetado con $A$, representa la combinación riesgo-rendimiento que obtendríamos si invirtiéramos $100\\%$ de nuestra riqueza en el activo $A$.\n",
    "- El punto etiquetado con $B$, representa la combinación riesgo-rendimiento que obtendríamos si invirtiéramos $100\\%$ de nuestra riqueza en el activo $B$.\n",
    "\n",
    "**Discutir el posicionamiento de los puntos $A$ y $B$**.\n",
    "\n",
    "- ¿Qué pasa si combinamos estos activos en un portafolio?"
   ]
  },
  {
   "cell_type": "markdown",
   "metadata": {},
   "source": [
    "1. Empezamos suponiendo que los rendimientos de $A$ y $B$ están perfectamente correlacionados: <font color = blue> $\\rho_{AB}=+1$ </font>.\n",
    " - ¿Cuáles son las combinaciones riesgo/rendimiento que obtenemos combinando $A$ y $B$ en un portafolio?\n",
    " - Sólo en este caso, tanto rendimiento como riesgo son el promedio ponderado de los activos individuales.\n",
    " - Línea recta: No diversificación.\n",
    "2. Ahora, ¿qué pasa si los rendimientos de $A$ y $B$ no negativamente perfectamente correlacionados?: <font color = green> $\\rho_{AB}=-1$ </font>.\n",
    " - ¿Cuáles son las combinaciones riesgo/rendimiento que obtenemos combinando $A$ y $B$ en un portafolio?\n",
    "3. Por último, ¿qué pasa si los rendimientos de $A$ y $B$ no están perfectamente correlacionados?: <font color = red> $-1<\\rho_{AB}<+1$ </font>.\n",
    " - ¿Cuáles son las combinaciones riesgo/rendimiento que obtenemos combinando $A$ y $B$ en un portafolio?\n",
    " - Notar que mientras los rendimientos se siguen calculando igual, el riesgo es menor que en el primer caso. Comparar."
   ]
  },
  {
   "cell_type": "markdown",
   "metadata": {},
   "source": [
    "### 1.3. Ilustración gráfica con tres activos.\n",
    "\n",
    "#### <font color = blue> Ver en el tablero... </font>\n",
    "\n",
    "- Supongamos que tenemos tres activos: $A$, $B$ y $C$.\n",
    "- Supongamos que las correlaciones entre cada par de activos son imperfectas: $-1<\\rho_{ij}<+1$.\n",
    "- Podemos armar portafolios entre cada par de activos (dibujar).\n",
    "- Luego, podríamos pensar un portafolio con los tres activos, como una combinación de un portafolio de dos activos (por ejemplo, $A$ y $B$) con el activo restante (ejemplo, $C$).\n",
    "- ¿Qué se obtiene?\n",
    "\n",
    "**Conclusión.** Combinar más activos abre más posibilidades a la diversificación del riesgo.\n",
    "___"
   ]
  },
  {
   "cell_type": "markdown",
   "metadata": {},
   "source": [
    "## 2. Diversificación: riesgo sistemático y riesgo idiosincrático.\n",
    "\n",
    "En la clase pasada vimos que si tenemos $n$ activos en un portafolio, el riesgo del portafolio (medido con la varianza) se puede calcular a partir de los riesgos individuales y movimientos relativos par a par como:\n",
    "\n",
    "\\begin{align}\n",
    "\\sigma_p^2  &=\\sum_{i=1}^{n}\\sum_{k=1}^{n}w_iw_k\\sigma_{ik}\\\\\n",
    "            &=\\sum_{i=1}^{n}w_i^2\\sigma_{ii}+\\sum_{i=1}^{n}\\sum_{k=1, k\\neq i}^{n}w_iw_k\\sigma_{ik}\\\\\n",
    "            &=\\sum_{i=1}^{n}w_i^2\\sigma_{i}^2+\\sum_{i=1}^{n}\\sum_{k=1, k\\neq i}^{n}w_iw_k\\sigma_{ik}.\n",
    "\\end{align}\n",
    "\n",
    "- Los primeros son los términos de varianza individual de cada activo: $n$ términos.\n",
    "- Los segundos son los términos de covarianza entre pares de activos: $n(n-1)$ términos.\n",
    "- Cuando $n$ crece, la importancia relativa de los términos de varianza es menor a la de los términos de covarianza."
   ]
  },
  {
   "cell_type": "markdown",
   "metadata": {},
   "source": [
    "___\n",
    "**Ejercicio para ilustrar este punto.** Suponga que se forma un portafolio con las siguientes condiciones:\n",
    "1. Se combinan $n$ activos en el portafolio.\n",
    "2. Todos los activos tienen la misma varianza. Esto es, $\\sigma_i^2=\\sigma^2$ para $i=1,2,\\dots,n$.\n",
    "3. La covarianza entre cada par de activos es la misma. Esto es, $\\sigma_{ij}=\\lambda$ para $i,j=1,2,\\dots,n$, con $i\\neq j$.\n",
    "4. La participación de cada activo en el portafolio es igual. Es decir, $w_i=\\frac{1}{n}$ para $i=1,2,\\dots,n$.\n",
    "\n",
    "¿A qué es igual la varianza del portafolio cuando el número de activos es muy grande?\n",
    "\n",
    "*Pista:* reemplazar en la fórmula de arriba y tomar el límite cuando $n\\to\\infty$.\n",
    "\n",
    "*Recomendación:* háganlo que va a venir en el próximo quiz.\n",
    "___"
   ]
  },
  {
   "cell_type": "markdown",
   "metadata": {},
   "source": [
    "**Entonces tenemos dos fuentes de riesgo en un portafolio:**\n",
    "1. Riesgo sistemático:\n",
    " - Es un hecho que todos los activos se ven afectados económicamente por factores comunes.\n",
    " - Ejemplo: si hay una recesión, la gente se encontraría desempleada, lo que afectaría a la mayoría de los negocios al mismo tiempo.\n",
    " - Esto es lo que llamamos **riesgo sistemático**, o **riesgo de mercado**."
   ]
  },
  {
   "cell_type": "markdown",
   "metadata": {},
   "source": [
    "2. Riesgo idiosincrático\n",
    " - La otra fuente de riesgo en un portafolio es llamada **riesgo idiosincrático**, o **riesgo específico de firma**, o **riesgo único**, o **riesgo no sistemático**.\n",
    " - Esta fuente de riesgo afecta a cada activo en particular por razones específicas.\n",
    " - Por definición, este tipo de riesgo específico, no está relacionado con otros activos.\n",
    " - Entonces cuando combinamos activos en un portafolio, el riesgo idiosincrático tiende a eliminarse. "
   ]
  },
  {
   "cell_type": "markdown",
   "metadata": {},
   "source": [
    "<img style=\"float: left; margin: 15px 15px 15px 15px;\" src=\"figures/diversification\" width=\"450px\" height=\"300px\" />\n",
    "\n",
    "Sin embargo, hay un límite en *cuanta* diversificación podemos alcanzar. Claro,\n",
    "- siempre podemos diversificar el riesgo no sistemático con un portafolio con muchos activos y bien diversificado,\n",
    "- pero no nos podemos deshacer del riesgo sistemático, porque afecta a todo. \n",
    "\n",
    "*En un portafolio correctamente diversificado, el único riesgo al que estamos sujetos es al riesgo que no podemos diversificar: riesgo sistemático*.\n",
    "\n",
    "Imagen tomada de: Makiel, R. *A Random Walk Down Wall Street*, 2012."
   ]
  },
  {
   "cell_type": "markdown",
   "metadata": {},
   "source": [
    "Entonces, con todo lo anterior, **¿porqué diversificar?**\n",
    "- para disminuir el riesgo.\n",
    "- ¿porqué usar casco?, ¿porqué usar cinturón de seguridad cuando voy en el coche?\n",
    "___"
   ]
  },
  {
   "cell_type": "markdown",
   "metadata": {},
   "source": [
    "# Anuncios parroquiales\n",
    "\n",
    "## 1. Cuadrar fecha de examen módulos 1 y 2.\n",
    "\n",
    "## 2. [Artículo interesante](https://www.economist.com/buttonwoods-notebook/2012/02/23/globalisation-and-diversification)."
   ]
  },
  {
   "cell_type": "markdown",
   "metadata": {},
   "source": [
    "<script>\n",
    "  $(document).ready(function(){\n",
    "    $('div.prompt').hide();\n",
    "    $('div.back-to-top').hide();\n",
    "    $('nav#menubar').hide();\n",
    "    $('.breadcrumb').hide();\n",
    "    $('.hidden-print').hide();\n",
    "  });\n",
    "</script>\n",
    "\n",
    "<footer id=\"attribution\" style=\"float:right; color:#808080; background:#fff;\">\n",
    "Created with Jupyter by Esteban Jiménez Rodríguez.\n",
    "</footer>"
   ]
  }
 ],
 "metadata": {
  "kernelspec": {
   "display_name": "Python 3",
   "language": "python",
   "name": "python3"
  },
  "language_info": {
   "codemirror_mode": {
    "name": "ipython",
    "version": 3
   },
   "file_extension": ".py",
   "mimetype": "text/x-python",
   "name": "python",
   "nbconvert_exporter": "python",
   "pygments_lexer": "ipython3",
   "version": "3.7.3"
  }
 },
 "nbformat": 4,
 "nbformat_minor": 2
}
