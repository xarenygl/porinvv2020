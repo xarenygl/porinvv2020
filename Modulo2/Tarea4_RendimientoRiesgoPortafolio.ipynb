{
 "cells": [
  {
   "cell_type": "markdown",
   "metadata": {},
   "source": [
    "# Tarea 4. Midiendo rendimiento y riesgo en un portafolio.\n",
    "\n",
    "<img style=\"float: right; margin: 0px 0px 15px 15px;\" src=\"data:image/jpeg;base64,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\" width=\"600px\" height=\"400px\" />\n",
    "\n",
    "**Resumen.**\n",
    "> En esta tarea, calcularás medidas de rendimiento esperado diario y volatilidad para cuatro diferentes portafolios. Usarás los históricos de precios que ya descargaste en la tarea anterior.\n",
    "\n",
    "**Criterio de revisión.**\n",
    "> Se te calificará de acuerdo a los resultados finales que reportes, basados en tu análisis.\n",
    "\n",
    "**Antes de comenzar.**\n",
    "> Por favor, copiar y pegar este archivo en otra ubicación. Antes de comenzar, nombrarlo *Tarea4_ApellidoNombre*, sin acentos y sin espacios; por ejemplo, en mi caso el archivo se llamaría *Tarea4_JimenezEsteban*. Resolver todos los puntos en dicho archivo y subir en este espacio."
   ]
  },
  {
   "cell_type": "markdown",
   "metadata": {},
   "source": [
    "## 1. Descarga de datos (10 puntos)\n",
    "\n",
    "Descargar los precios diarios ajustados en el cierre para el índice S&P 500 (^GSPC), Microsoft (MSFT), Walgreens (WBA), y Tesla Motors (TSLA) durante el periodo comprendido del primero de enero del 2015 hasta el 31 de diciembre del 2019.\n",
    "\n",
    "1. Mostrar el DataFrame de los precios diarios (2 puntos).\n",
    "2. Graficar los precios (3 puntos).\n",
    "3. Mostrar el DataFrame de los rendimientos porcentuales diarios (2 puntos).\n",
    "4. Graficar los rendimientos (3 puntos)."
   ]
  },
  {
   "cell_type": "code",
   "execution_count": null,
   "metadata": {},
   "outputs": [],
   "source": []
  },
  {
   "cell_type": "code",
   "execution_count": null,
   "metadata": {},
   "outputs": [],
   "source": []
  },
  {
   "cell_type": "code",
   "execution_count": null,
   "metadata": {},
   "outputs": [],
   "source": []
  },
  {
   "cell_type": "code",
   "execution_count": null,
   "metadata": {},
   "outputs": [],
   "source": []
  },
  {
   "cell_type": "code",
   "execution_count": null,
   "metadata": {},
   "outputs": [],
   "source": []
  },
  {
   "cell_type": "code",
   "execution_count": null,
   "metadata": {},
   "outputs": [],
   "source": []
  },
  {
   "cell_type": "markdown",
   "metadata": {},
   "source": [
    "## 2. Rendimiento esperado y volatilidad para cada activo (20 puntos)\n",
    "\n",
    "Usando los datos de rendimientos diarios de MSFT, WBA, y TSLA:\n",
    "\n",
    "1. Reportar en un DataFrame el rendimiento esperado diario y la volatilidad diaria para cada activo. Reportar en otro DataFrame el rendimiento esperado anual y la volatilidad anual para cada activo (10 puntos).\n",
    "2. Calcular la matriz de varianza-covarianza (base diaria) para los activos MSFT, WBA, y TSLA (5 puntos).\n",
    "3. Calcular la matriz de correlación (base diaria) para los activos MSFT, WBA, y TSLA (5 puntos).\n",
    "\n",
    "Para este punto, investigar los métodos `cov` y `corr` de los objetos tipo `pd.DataFrame`."
   ]
  },
  {
   "cell_type": "code",
   "execution_count": null,
   "metadata": {},
   "outputs": [],
   "source": []
  },
  {
   "cell_type": "code",
   "execution_count": null,
   "metadata": {},
   "outputs": [],
   "source": []
  },
  {
   "cell_type": "code",
   "execution_count": null,
   "metadata": {},
   "outputs": [],
   "source": []
  },
  {
   "cell_type": "code",
   "execution_count": null,
   "metadata": {},
   "outputs": [],
   "source": []
  },
  {
   "cell_type": "code",
   "execution_count": null,
   "metadata": {},
   "outputs": [],
   "source": []
  },
  {
   "cell_type": "code",
   "execution_count": null,
   "metadata": {},
   "outputs": [],
   "source": []
  },
  {
   "cell_type": "markdown",
   "metadata": {},
   "source": [
    "## 3. Rentimiento esperado y volatilidad para portafolios (45 puntos)\n",
    "\n",
    "1. Calcular los rendimientos diarios de los siguientes portafolios. Reportar en un DataFrame el rendimiento esperado anual y la volatilidad anual para cada portafolio, calculando lo anterior tratando cada portafolio como si fuera un activo individual (20 puntos).\n",
    " - Portafolio 1: igualmente ponderado entre MSFT, WBA, y TSLA.\n",
    " - Portafolio 2: 30% MSFT, 20% WBA, y 50% TSLA.\n",
    " - Portafolio 3: 50% MSFT, 30% WBA, y 20% TSLA.\n",
    " - Portafolio 4: 20% MSFT, 50% WBA, y 30% TSLA.\n",
    "2. Para cada uno de los anteriores portafolios, reportar en otro DataFrame el rendimiento esperado anual y la volatilidad anual para cada portafolio, calculando lo anterior mediante las fórmulas de rendimiento esperado y volatilidad para portafolios derivadas en clase (20 puntos).\n",
    "3. Comparar los resultados del punto uno con los del punto dos (5 puntos)."
   ]
  },
  {
   "cell_type": "code",
   "execution_count": null,
   "metadata": {},
   "outputs": [],
   "source": []
  },
  {
   "cell_type": "code",
   "execution_count": null,
   "metadata": {},
   "outputs": [],
   "source": []
  },
  {
   "cell_type": "code",
   "execution_count": null,
   "metadata": {},
   "outputs": [],
   "source": []
  },
  {
   "cell_type": "code",
   "execution_count": null,
   "metadata": {},
   "outputs": [],
   "source": []
  },
  {
   "cell_type": "code",
   "execution_count": null,
   "metadata": {},
   "outputs": [],
   "source": []
  },
  {
   "cell_type": "code",
   "execution_count": null,
   "metadata": {},
   "outputs": [],
   "source": []
  },
  {
   "cell_type": "markdown",
   "metadata": {},
   "source": [
    "## 4. Gráfico de rendimientos esperados vs. volatilidad (25 puntos)\n",
    "\n",
    "1. Crear un gráfico de puntos que muestre el rendimiento esperado y la volatilidad para cada uno de los activos, el índice S&P500, y los cuatro portafolios en el espacio rendimiento esperado (eje y) contra volatilidad (eje x). Etiquetar cada uno de los puntos y los ejes apropiadamente (15 puntos).\n",
    "2. ¿Qué puede concluir acerca de la posición en el gráfico de los portafolios respecto a los activos? (10 puntos)"
   ]
  },
  {
   "cell_type": "code",
   "execution_count": null,
   "metadata": {},
   "outputs": [],
   "source": []
  },
  {
   "cell_type": "code",
   "execution_count": null,
   "metadata": {},
   "outputs": [],
   "source": []
  },
  {
   "cell_type": "code",
   "execution_count": null,
   "metadata": {},
   "outputs": [],
   "source": []
  },
  {
   "cell_type": "code",
   "execution_count": null,
   "metadata": {},
   "outputs": [],
   "source": []
  },
  {
   "cell_type": "markdown",
   "metadata": {},
   "source": [
    "<script>\n",
    "  $(document).ready(function(){\n",
    "    $('div.prompt').hide();\n",
    "    $('div.back-to-top').hide();\n",
    "    $('nav#menubar').hide();\n",
    "    $('.breadcrumb').hide();\n",
    "    $('.hidden-print').hide();\n",
    "  });\n",
    "</script>\n",
    "\n",
    "<footer id=\"attribution\" style=\"float:right; color:#808080; background:#fff;\">\n",
    "Created with Jupyter by Esteban Jiménez Rodríguez.\n",
    "</footer>"
   ]
  }
 ],
 "metadata": {
  "kernelspec": {
   "display_name": "Python 3",
   "language": "python",
   "name": "python3"
  },
  "language_info": {
   "codemirror_mode": {
    "name": "ipython",
    "version": 3
   },
   "file_extension": ".py",
   "mimetype": "text/x-python",
   "name": "python",
   "nbconvert_exporter": "python",
   "pygments_lexer": "ipython3",
   "version": "3.7.3"
  }
 },
 "nbformat": 4,
 "nbformat_minor": 2
}
