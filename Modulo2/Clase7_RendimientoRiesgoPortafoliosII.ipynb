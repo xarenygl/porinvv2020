{
 "cells": [
  {
   "cell_type": "markdown",
   "metadata": {},
   "source": [
    "# ¿Cómo medir rendimiento y riesgo en un portafolio? II\n",
    "\n",
    "<img style=\"float: right; margin: 0px 0px 15px 15px;\" src=\"http://www.picpedia.org/clipboard/images/stock-portfolio.jpg\" width=\"600px\" height=\"400px\" />\n",
    "\n",
    "> La clase pasada y la presente, están dedicadas a obtener medidas de rendimiento y riesgo en un portafolio.\n",
    "\n",
    "> Vimos que podemos obtener los rendimientos de un portafolio mediante la relación $r_p=\\sum_{i=1}^{n}w_ir_i$, y una vez teniendo los rendimientos del portafolio, lo podemos tratar como un activo individual.\n",
    "\n",
    "> Por otra parte, vimos que si conocemos los rendimientos esperados de cada activo que conforma el portafolio $E[r_i]$, podemos calcular el rendimiento esperado del portafolio como el promedio ponderado de los rendimientos esperados de los activos $E[r_p]=\\sum_{i=1}^{n}w_iE[r_i]$.\n",
    "\n",
    "> Sin embargo, vimos que esto no es válido para la medida de riesgo (desviación estándar). Es decir, la varianza (o volatilidad, o desviación estándar) no es el promedio ponderado de las varianzas individuales. Anticipamos que esto es clave en el concepto de **diversificación**."
   ]
  },
  {
   "cell_type": "markdown",
   "metadata": {},
   "source": [
    "**Objetivos:**\n",
    "- Medir el riesgo en un portafolio a partir del riesgo de cada uno de los activos que lo conforman.\n",
    "\n",
    "*Referencias*\n",
    "- Notas del curso \"Portfolio Selection and Risk Management\", Rice University, disponible en Coursera.\n",
    "___"
   ]
  },
  {
   "cell_type": "markdown",
   "metadata": {},
   "source": [
    "## 1. Midiendo el riesgo en un portafolio\n",
    "\n",
    "### 1.1. Volatilidad de un portafolio\n",
    "\n",
    "Retomamos el ejemplo qur veníamos trabajando la clase pasada..."
   ]
  },
  {
   "cell_type": "markdown",
   "metadata": {},
   "source": [
    "**Ejemplo.** Supongamos que tenemos inversión en activos de Toyota, Walmart y Pfizer. Tenemos cuatro posibles estados económicos:"
   ]
  },
  {
   "cell_type": "code",
   "execution_count": 1,
   "metadata": {},
   "outputs": [],
   "source": [
    "import numpy as np\n",
    "import pandas as pd"
   ]
  },
  {
   "cell_type": "code",
   "execution_count": 2,
   "metadata": {},
   "outputs": [
    {
     "data": {
      "text/html": [
       "<div>\n",
       "<style scoped>\n",
       "    .dataframe tbody tr th:only-of-type {\n",
       "        vertical-align: middle;\n",
       "    }\n",
       "\n",
       "    .dataframe tbody tr th {\n",
       "        vertical-align: top;\n",
       "    }\n",
       "\n",
       "    .dataframe thead th {\n",
       "        text-align: right;\n",
       "    }\n",
       "</style>\n",
       "<table border=\"1\" class=\"dataframe\">\n",
       "  <thead>\n",
       "    <tr style=\"text-align: right;\">\n",
       "      <th></th>\n",
       "      <th>Prob</th>\n",
       "      <th>Toyota</th>\n",
       "      <th>Walmart</th>\n",
       "      <th>Pfizer</th>\n",
       "    </tr>\n",
       "    <tr>\n",
       "      <th>Estado</th>\n",
       "      <th></th>\n",
       "      <th></th>\n",
       "      <th></th>\n",
       "      <th></th>\n",
       "    </tr>\n",
       "  </thead>\n",
       "  <tbody>\n",
       "    <tr>\n",
       "      <th>Expansion</th>\n",
       "      <td>0.1</td>\n",
       "      <td>0.060</td>\n",
       "      <td>0.045</td>\n",
       "      <td>0.025</td>\n",
       "    </tr>\n",
       "    <tr>\n",
       "      <th>Normal</th>\n",
       "      <td>0.4</td>\n",
       "      <td>0.075</td>\n",
       "      <td>0.055</td>\n",
       "      <td>-0.005</td>\n",
       "    </tr>\n",
       "    <tr>\n",
       "      <th>Recesion</th>\n",
       "      <td>0.3</td>\n",
       "      <td>0.020</td>\n",
       "      <td>0.040</td>\n",
       "      <td>0.010</td>\n",
       "    </tr>\n",
       "    <tr>\n",
       "      <th>Depresion</th>\n",
       "      <td>0.2</td>\n",
       "      <td>-0.030</td>\n",
       "      <td>-0.010</td>\n",
       "      <td>0.130</td>\n",
       "    </tr>\n",
       "  </tbody>\n",
       "</table>\n",
       "</div>"
      ],
      "text/plain": [
       "           Prob  Toyota  Walmart  Pfizer\n",
       "Estado                                  \n",
       "Expansion   0.1   0.060    0.045   0.025\n",
       "Normal      0.4   0.075    0.055  -0.005\n",
       "Recesion    0.3   0.020    0.040   0.010\n",
       "Depresion   0.2  -0.030   -0.010   0.130"
      ]
     },
     "execution_count": 2,
     "metadata": {},
     "output_type": "execute_result"
    }
   ],
   "source": [
    "# Creamos tabla\n",
    "tabla = pd.DataFrame(columns=['Prob', 'Toyota', 'Walmart', 'Pfizer'], \n",
    "                     index=['Expansion', 'Normal', 'Recesion', 'Depresion'])\n",
    "tabla.index.name = 'Estado'\n",
    "tabla['Prob']=np.array([0.1, 0.4, 0.3, 0.2])\n",
    "tabla['Toyota']=np.array([0.06, 0.075, 0.02, -0.03])\n",
    "tabla['Walmart']=np.array([0.045, 0.055, 0.04, -0.01])\n",
    "tabla['Pfizer']=np.array([0.025, -0.005, 0.01, 0.13])\n",
    "\n",
    "tabla.round(4)"
   ]
  },
  {
   "cell_type": "code",
   "execution_count": 3,
   "metadata": {},
   "outputs": [
    {
     "data": {
      "text/plain": [
       "(0.036, 0.036500000000000005, 0.029500000000000002)"
      ]
     },
     "execution_count": 3,
     "metadata": {},
     "output_type": "execute_result"
    }
   ],
   "source": [
    "## Rendimientos esperados\n",
    "# Toyota\n",
    "ErT = (tabla['Prob'] * tabla['Toyota']).sum()\n",
    "# Walmart\n",
    "ErW = (tabla['Prob'] * tabla['Walmart']).sum()\n",
    "# Pfizer\n",
    "ErP = (tabla['Prob'] * tabla['Pfizer']).sum()\n",
    "# Mostrar\n",
    "ErT, ErW, ErP"
   ]
  },
  {
   "cell_type": "code",
   "execution_count": 4,
   "metadata": {},
   "outputs": [
    {
     "data": {
      "text/plain": [
       "(0.04017461885320133, 0.02408837894089181, 0.05111017511220246)"
      ]
     },
     "execution_count": 4,
     "metadata": {},
     "output_type": "execute_result"
    }
   ],
   "source": [
    "## Volatilidad\n",
    "# Toyota\n",
    "sT = (tabla['Prob'] * (tabla['Toyota'] - ErT)**2).sum()**0.5\n",
    "# Walmart\n",
    "sW = (tabla['Prob'] * (tabla['Walmart'] - ErW)**2).sum()**0.5\n",
    "# Pfizer\n",
    "sP = (tabla['Prob'] * (tabla['Pfizer'] - ErP)**2).sum()**0.5\n",
    "# Mostrar\n",
    "sT, sW, sP"
   ]
  },
  {
   "cell_type": "code",
   "execution_count": 5,
   "metadata": {},
   "outputs": [
    {
     "data": {
      "text/html": [
       "<div>\n",
       "<style scoped>\n",
       "    .dataframe tbody tr th:only-of-type {\n",
       "        vertical-align: middle;\n",
       "    }\n",
       "\n",
       "    .dataframe tbody tr th {\n",
       "        vertical-align: top;\n",
       "    }\n",
       "\n",
       "    .dataframe thead th {\n",
       "        text-align: right;\n",
       "    }\n",
       "</style>\n",
       "<table border=\"1\" class=\"dataframe\">\n",
       "  <thead>\n",
       "    <tr style=\"text-align: right;\">\n",
       "      <th></th>\n",
       "      <th>Prob</th>\n",
       "      <th>Toyota</th>\n",
       "      <th>Walmart</th>\n",
       "      <th>Pfizer</th>\n",
       "      <th>PortTP</th>\n",
       "    </tr>\n",
       "    <tr>\n",
       "      <th>Estado</th>\n",
       "      <th></th>\n",
       "      <th></th>\n",
       "      <th></th>\n",
       "      <th></th>\n",
       "      <th></th>\n",
       "    </tr>\n",
       "  </thead>\n",
       "  <tbody>\n",
       "    <tr>\n",
       "      <th>Expansion</th>\n",
       "      <td>0.1</td>\n",
       "      <td>0.060</td>\n",
       "      <td>0.045</td>\n",
       "      <td>0.025</td>\n",
       "      <td>0.0425</td>\n",
       "    </tr>\n",
       "    <tr>\n",
       "      <th>Normal</th>\n",
       "      <td>0.4</td>\n",
       "      <td>0.075</td>\n",
       "      <td>0.055</td>\n",
       "      <td>-0.005</td>\n",
       "      <td>0.0350</td>\n",
       "    </tr>\n",
       "    <tr>\n",
       "      <th>Recesion</th>\n",
       "      <td>0.3</td>\n",
       "      <td>0.020</td>\n",
       "      <td>0.040</td>\n",
       "      <td>0.010</td>\n",
       "      <td>0.0150</td>\n",
       "    </tr>\n",
       "    <tr>\n",
       "      <th>Depresion</th>\n",
       "      <td>0.2</td>\n",
       "      <td>-0.030</td>\n",
       "      <td>-0.010</td>\n",
       "      <td>0.130</td>\n",
       "      <td>0.0500</td>\n",
       "    </tr>\n",
       "  </tbody>\n",
       "</table>\n",
       "</div>"
      ],
      "text/plain": [
       "           Prob  Toyota  Walmart  Pfizer  PortTP\n",
       "Estado                                          \n",
       "Expansion   0.1   0.060    0.045   0.025  0.0425\n",
       "Normal      0.4   0.075    0.055  -0.005  0.0350\n",
       "Recesion    0.3   0.020    0.040   0.010  0.0150\n",
       "Depresion   0.2  -0.030   -0.010   0.130  0.0500"
      ]
     },
     "execution_count": 5,
     "metadata": {},
     "output_type": "execute_result"
    }
   ],
   "source": [
    "# Portafolio 0.5Toyota+0.5Pfizer\n",
    "tabla['PortTP'] = 0.5 * tabla['Toyota'] + 0.5 * tabla['Pfizer']\n",
    "tabla"
   ]
  },
  {
   "cell_type": "code",
   "execution_count": 6,
   "metadata": {},
   "outputs": [
    {
     "data": {
      "text/plain": [
       "(0.03275, 0.03275)"
      ]
     },
     "execution_count": 6,
     "metadata": {},
     "output_type": "execute_result"
    }
   ],
   "source": [
    "# Rendimiento portafolio (como activo individual)\n",
    "ErTP = (tabla['Prob'] * tabla['PortTP']).sum()\n",
    "# Rendimiento portafolio (como suma ponderada de rendimientos individuales)\n",
    "ErTP2 = 0.5 * ErT + 0.5 * ErP\n",
    "ErTP, ErTP2"
   ]
  },
  {
   "cell_type": "code",
   "execution_count": 7,
   "metadata": {},
   "outputs": [
    {
     "data": {
      "text/plain": [
       "0.012867109232457772"
      ]
     },
     "execution_count": 7,
     "metadata": {},
     "output_type": "execute_result"
    }
   ],
   "source": [
    "# Volatilidad del portafolio\n",
    "sTP =  (tabla['Prob'] * (tabla['PortTP'] - ErTP)**2).sum()**0.5\n",
    "sTP"
   ]
  },
  {
   "cell_type": "code",
   "execution_count": 8,
   "metadata": {},
   "outputs": [
    {
     "data": {
      "text/plain": [
       "(0.012867109232457772, 0.045642396982701894)"
      ]
     },
     "execution_count": 8,
     "metadata": {},
     "output_type": "execute_result"
    }
   ],
   "source": [
    "# Notar que sTP < 0.5 * sT + 0.5 * sP\n",
    "# la volatilidad del portafolio siempre es menor\n",
    "# a la suma ponderada de las volatilidades individuales\n",
    "sTP, 0.5 * sT + 0.5 * sP"
   ]
  },
  {
   "cell_type": "markdown",
   "metadata": {},
   "source": [
    "**Actividad.** Encontrar la volatilidad del portafolio formado $0.5$ Toyota y $0.5$ Walmart."
   ]
  },
  {
   "cell_type": "code",
   "execution_count": 9,
   "metadata": {},
   "outputs": [
    {
     "data": {
      "text/html": [
       "<div>\n",
       "<style scoped>\n",
       "    .dataframe tbody tr th:only-of-type {\n",
       "        vertical-align: middle;\n",
       "    }\n",
       "\n",
       "    .dataframe tbody tr th {\n",
       "        vertical-align: top;\n",
       "    }\n",
       "\n",
       "    .dataframe thead th {\n",
       "        text-align: right;\n",
       "    }\n",
       "</style>\n",
       "<table border=\"1\" class=\"dataframe\">\n",
       "  <thead>\n",
       "    <tr style=\"text-align: right;\">\n",
       "      <th></th>\n",
       "      <th>Prob</th>\n",
       "      <th>Toyota</th>\n",
       "      <th>Walmart</th>\n",
       "      <th>Pfizer</th>\n",
       "      <th>PortTP</th>\n",
       "      <th>PortTW</th>\n",
       "    </tr>\n",
       "    <tr>\n",
       "      <th>Estado</th>\n",
       "      <th></th>\n",
       "      <th></th>\n",
       "      <th></th>\n",
       "      <th></th>\n",
       "      <th></th>\n",
       "      <th></th>\n",
       "    </tr>\n",
       "  </thead>\n",
       "  <tbody>\n",
       "    <tr>\n",
       "      <th>Expansion</th>\n",
       "      <td>0.1</td>\n",
       "      <td>0.060</td>\n",
       "      <td>0.045</td>\n",
       "      <td>0.025</td>\n",
       "      <td>0.0425</td>\n",
       "      <td>0.0525</td>\n",
       "    </tr>\n",
       "    <tr>\n",
       "      <th>Normal</th>\n",
       "      <td>0.4</td>\n",
       "      <td>0.075</td>\n",
       "      <td>0.055</td>\n",
       "      <td>-0.005</td>\n",
       "      <td>0.0350</td>\n",
       "      <td>0.0650</td>\n",
       "    </tr>\n",
       "    <tr>\n",
       "      <th>Recesion</th>\n",
       "      <td>0.3</td>\n",
       "      <td>0.020</td>\n",
       "      <td>0.040</td>\n",
       "      <td>0.010</td>\n",
       "      <td>0.0150</td>\n",
       "      <td>0.0300</td>\n",
       "    </tr>\n",
       "    <tr>\n",
       "      <th>Depresion</th>\n",
       "      <td>0.2</td>\n",
       "      <td>-0.030</td>\n",
       "      <td>-0.010</td>\n",
       "      <td>0.130</td>\n",
       "      <td>0.0500</td>\n",
       "      <td>-0.0200</td>\n",
       "    </tr>\n",
       "  </tbody>\n",
       "</table>\n",
       "</div>"
      ],
      "text/plain": [
       "           Prob  Toyota  Walmart  Pfizer  PortTP  PortTW\n",
       "Estado                                                  \n",
       "Expansion   0.1   0.060    0.045   0.025  0.0425  0.0525\n",
       "Normal      0.4   0.075    0.055  -0.005  0.0350  0.0650\n",
       "Recesion    0.3   0.020    0.040   0.010  0.0150  0.0300\n",
       "Depresion   0.2  -0.030   -0.010   0.130  0.0500 -0.0200"
      ]
     },
     "execution_count": 9,
     "metadata": {},
     "output_type": "execute_result"
    }
   ],
   "source": [
    "# Encontrar los rendimientos del portafolio en cada estado de la economía\n",
    "tabla['PortTW'] = 0.5 * tabla['Toyota'] + 0.5 * tabla['Walmart']\n",
    "tabla"
   ]
  },
  {
   "cell_type": "code",
   "execution_count": 10,
   "metadata": {},
   "outputs": [
    {
     "data": {
      "text/plain": [
       "0.036250000000000004"
      ]
     },
     "execution_count": 10,
     "metadata": {},
     "output_type": "execute_result"
    }
   ],
   "source": [
    "# Encontrar el rendimiento esperado del portafolio\n",
    "ErTW = (tabla['Prob'] * tabla['PortTW']).sum()\n",
    "ErTW"
   ]
  },
  {
   "cell_type": "code",
   "execution_count": 11,
   "metadata": {},
   "outputs": [
    {
     "data": {
      "text/plain": [
       "0.03164747225293041"
      ]
     },
     "execution_count": 11,
     "metadata": {},
     "output_type": "execute_result"
    }
   ],
   "source": [
    "# Encontrar la volatilidad de Toyota, Walmart y el portafolio\n",
    "sTW =  (tabla['Prob'] * (tabla['PortTW'] - ErTW)**2).sum()**0.5\n",
    "sTW"
   ]
  },
  {
   "cell_type": "code",
   "execution_count": 12,
   "metadata": {},
   "outputs": [
    {
     "data": {
      "text/plain": [
       "(0.03164747225293041, 0.03213149889704657)"
      ]
     },
     "execution_count": 12,
     "metadata": {},
     "output_type": "execute_result"
    }
   ],
   "source": [
    "sTW, 0.5 * sT + 0.5 * sW"
   ]
  },
  {
   "cell_type": "markdown",
   "metadata": {},
   "source": [
    "### 1.2. Midiendo el co-movimiento entre instrumentos\n",
    "\n",
    "- Una vez más, concluimos que la volatilidad (varianza) **NO** es el promedio ponderado de las varianzas individales.\n",
    "\n",
    "- Por el contrario, la varianza de los rendimientos de un portafolio está afectada por el movimiento relativo de un activo individual respecto a otro.\n",
    "\n",
    "- Por tanto, necesitamos definir las medidas de **covarianza** y **correlación**, que nos permiten evaluar las fluctuaciones relativas entre los activos."
   ]
  },
  {
   "cell_type": "markdown",
   "metadata": {},
   "source": [
    "#### Covarianza:\n",
    "\n",
    "Es una medida el movimiento relativo entre dos instrumentos.\n",
    "\n",
    "Matemáticamente, si tenemos dos activos $A_1$ y $A_2$ cuyos rendimientos son $r_1$ y $r_2$, respectivamente, entonces la covarianza de los rendimientos de los activos es\n",
    "\n",
    "$$\\text{cov}(r_1,r_2)=\\sigma_{12}=\\sum_{j=1}^{m}p_j(r_{1j}-E[r_1])(r_{2j}-E[r_2]).$$\n",
    "\n",
    "$$\\text{cov}(r_2,r_1)=\\sigma_{21}=\\sum_{j=1}^{m}p_j(r_{2j}-E[r_2])(r_{1j}-E[r_1]) = \\sigma_{12}.$$"
   ]
  },
  {
   "cell_type": "markdown",
   "metadata": {},
   "source": [
    "Podemos notar fácilmente que la covarianza de los rendimientos de un activo con los rendimientos del mismo activo corresponde a la varianza\n",
    "\n",
    "$$\\text{cov}(r_1,r_1)=\\sigma_{11}=\\sum_{j=1}^{m} p_j(r_{1j}-E[r_1])(r_{1j}-E[r_1])=\\sigma_1^2=\\text{var}(r_1).$$"
   ]
  },
  {
   "cell_type": "markdown",
   "metadata": {},
   "source": [
    "**Ejemplo.** Calcular la covarianza entre los rendimientos de Toyota y Pfizer."
   ]
  },
  {
   "cell_type": "code",
   "execution_count": 13,
   "metadata": {},
   "outputs": [
    {
     "data": {
      "text/html": [
       "<div>\n",
       "<style scoped>\n",
       "    .dataframe tbody tr th:only-of-type {\n",
       "        vertical-align: middle;\n",
       "    }\n",
       "\n",
       "    .dataframe tbody tr th {\n",
       "        vertical-align: top;\n",
       "    }\n",
       "\n",
       "    .dataframe thead th {\n",
       "        text-align: right;\n",
       "    }\n",
       "</style>\n",
       "<table border=\"1\" class=\"dataframe\">\n",
       "  <thead>\n",
       "    <tr style=\"text-align: right;\">\n",
       "      <th></th>\n",
       "      <th>Prob</th>\n",
       "      <th>Toyota</th>\n",
       "      <th>Walmart</th>\n",
       "      <th>Pfizer</th>\n",
       "      <th>PortTP</th>\n",
       "      <th>PortTW</th>\n",
       "    </tr>\n",
       "    <tr>\n",
       "      <th>Estado</th>\n",
       "      <th></th>\n",
       "      <th></th>\n",
       "      <th></th>\n",
       "      <th></th>\n",
       "      <th></th>\n",
       "      <th></th>\n",
       "    </tr>\n",
       "  </thead>\n",
       "  <tbody>\n",
       "    <tr>\n",
       "      <th>Expansion</th>\n",
       "      <td>0.1</td>\n",
       "      <td>0.060</td>\n",
       "      <td>0.045</td>\n",
       "      <td>0.025</td>\n",
       "      <td>0.0425</td>\n",
       "      <td>0.0525</td>\n",
       "    </tr>\n",
       "    <tr>\n",
       "      <th>Normal</th>\n",
       "      <td>0.4</td>\n",
       "      <td>0.075</td>\n",
       "      <td>0.055</td>\n",
       "      <td>-0.005</td>\n",
       "      <td>0.0350</td>\n",
       "      <td>0.0650</td>\n",
       "    </tr>\n",
       "    <tr>\n",
       "      <th>Recesion</th>\n",
       "      <td>0.3</td>\n",
       "      <td>0.020</td>\n",
       "      <td>0.040</td>\n",
       "      <td>0.010</td>\n",
       "      <td>0.0150</td>\n",
       "      <td>0.0300</td>\n",
       "    </tr>\n",
       "    <tr>\n",
       "      <th>Depresion</th>\n",
       "      <td>0.2</td>\n",
       "      <td>-0.030</td>\n",
       "      <td>-0.010</td>\n",
       "      <td>0.130</td>\n",
       "      <td>0.0500</td>\n",
       "      <td>-0.0200</td>\n",
       "    </tr>\n",
       "  </tbody>\n",
       "</table>\n",
       "</div>"
      ],
      "text/plain": [
       "           Prob  Toyota  Walmart  Pfizer  PortTP  PortTW\n",
       "Estado                                                  \n",
       "Expansion   0.1   0.060    0.045   0.025  0.0425  0.0525\n",
       "Normal      0.4   0.075    0.055  -0.005  0.0350  0.0650\n",
       "Recesion    0.3   0.020    0.040   0.010  0.0150  0.0300\n",
       "Depresion   0.2  -0.030   -0.010   0.130  0.0500 -0.0200"
      ]
     },
     "execution_count": 13,
     "metadata": {},
     "output_type": "execute_result"
    }
   ],
   "source": [
    "# Mostrar tabla\n",
    "tabla"
   ]
  },
  {
   "cell_type": "code",
   "execution_count": 14,
   "metadata": {},
   "outputs": [
    {
     "data": {
      "text/plain": [
       "-0.0017820000000000004"
      ]
     },
     "execution_count": 14,
     "metadata": {},
     "output_type": "execute_result"
    }
   ],
   "source": [
    "# Calcular la covarianza\n",
    "covTP = (tabla['Prob'] * (tabla['Toyota'] - ErT) * (tabla['Pfizer'] - ErP)).sum()\n",
    "covTP"
   ]
  },
  {
   "cell_type": "markdown",
   "metadata": {},
   "source": [
    "**Actividad.** Calcular la covarianza entre los rendimientos de Toyota y Walmart."
   ]
  },
  {
   "cell_type": "code",
   "execution_count": 15,
   "metadata": {},
   "outputs": [
    {
     "data": {
      "text/plain": [
       "0.0009060000000000001"
      ]
     },
     "execution_count": 15,
     "metadata": {},
     "output_type": "execute_result"
    }
   ],
   "source": [
    "# Calcular la covarianza\n",
    "covTW = (tabla['Prob'] * (tabla['Toyota'] - ErT) * (tabla['Walmart'] - ErW)).sum()\n",
    "covTW"
   ]
  },
  {
   "cell_type": "code",
   "execution_count": 16,
   "metadata": {},
   "outputs": [
    {
     "data": {
      "text/html": [
       "<div>\n",
       "<style scoped>\n",
       "    .dataframe tbody tr th:only-of-type {\n",
       "        vertical-align: middle;\n",
       "    }\n",
       "\n",
       "    .dataframe tbody tr th {\n",
       "        vertical-align: top;\n",
       "    }\n",
       "\n",
       "    .dataframe thead th {\n",
       "        text-align: right;\n",
       "    }\n",
       "</style>\n",
       "<table border=\"1\" class=\"dataframe\">\n",
       "  <thead>\n",
       "    <tr style=\"text-align: right;\">\n",
       "      <th></th>\n",
       "      <th>Toyota</th>\n",
       "      <th>Walmart</th>\n",
       "    </tr>\n",
       "    <tr>\n",
       "      <th>Estado</th>\n",
       "      <th></th>\n",
       "      <th></th>\n",
       "    </tr>\n",
       "  </thead>\n",
       "  <tbody>\n",
       "    <tr>\n",
       "      <th>Expansion</th>\n",
       "      <td>0.060</td>\n",
       "      <td>0.045</td>\n",
       "    </tr>\n",
       "    <tr>\n",
       "      <th>Normal</th>\n",
       "      <td>0.075</td>\n",
       "      <td>0.055</td>\n",
       "    </tr>\n",
       "    <tr>\n",
       "      <th>Recesion</th>\n",
       "      <td>0.020</td>\n",
       "      <td>0.040</td>\n",
       "    </tr>\n",
       "    <tr>\n",
       "      <th>Depresion</th>\n",
       "      <td>-0.030</td>\n",
       "      <td>-0.010</td>\n",
       "    </tr>\n",
       "  </tbody>\n",
       "</table>\n",
       "</div>"
      ],
      "text/plain": [
       "           Toyota  Walmart\n",
       "Estado                    \n",
       "Expansion   0.060    0.045\n",
       "Normal      0.075    0.055\n",
       "Recesion    0.020    0.040\n",
       "Depresion  -0.030   -0.010"
      ]
     },
     "execution_count": 16,
     "metadata": {},
     "output_type": "execute_result"
    }
   ],
   "source": [
    "tabla[['Toyota', 'Walmart']]"
   ]
  },
  {
   "cell_type": "markdown",
   "metadata": {},
   "source": [
    "¿Qué nos dice este número?\n",
    "- El signo nos dice las direcciones relativas entre los rendimientos de cada activo. Por ejemplo, la covarianza entre los rendimientos de Toyota y Pfizer es negativa... ver los rendimientos.\n",
    "- La magnitud de la covarianza no nos dice mucho acerca de la fuerza con que se relacionan o no estos rendimientos."
   ]
  },
  {
   "cell_type": "markdown",
   "metadata": {},
   "source": [
    "**Correlación:**\n",
    "\n",
    "Un posible problema de la covarianza es que la magnitud de esta medida no nos dice mucho acerca de la fuerza de los movimientos relativos. La *correlación* es una medida normalizada del movimiento relativo entre los rendimientos de dos activos.\n",
    "\n",
    "Matemáticamente,\n",
    "\n",
    "$$\\text{corr}(r_1,r_2)=\\rho_{12}=\\rho_{21}=\\frac{\\sigma_{12}}{\\sigma_1\\sigma_{2}}.$$"
   ]
  },
  {
   "cell_type": "markdown",
   "metadata": {},
   "source": [
    "Propiedades:\n",
    "\n",
    "- Podemos notar fácilmente que la correlación de los rendimientos de un activo con los rendimientos del mismo activo es $1$: $$\\text{corr}(r_1,r_1)=\\rho_{11}=\\frac{\\sigma_{11}}{\\sigma_1\\sigma_1}=\\frac{\\sigma_{1}^2}{\\sigma_1\\sigma_1}=1.$$\n",
    "- El signo de la correlación y la covarianza es el mismo.\n",
    "- La correlación satisface: $$-1\\leq\\rho_{12}\\leq 1.$$"
   ]
  },
  {
   "cell_type": "markdown",
   "metadata": {},
   "source": [
    "**Ejemplo.** Calcular la correlación entre los rendimientos de Toyota y Pfizer."
   ]
  },
  {
   "cell_type": "code",
   "execution_count": 17,
   "metadata": {},
   "outputs": [
    {
     "data": {
      "text/plain": [
       "-0.8678577889660902"
      ]
     },
     "execution_count": 17,
     "metadata": {},
     "output_type": "execute_result"
    }
   ],
   "source": [
    "corrTP = covTP / (sT * sP)\n",
    "corrTP"
   ]
  },
  {
   "cell_type": "markdown",
   "metadata": {},
   "source": [
    "**Actividad.** Calcular la correlación entre los rendimientos de Toyota y Walmart."
   ]
  },
  {
   "cell_type": "code",
   "execution_count": 18,
   "metadata": {},
   "outputs": [
    {
     "data": {
      "text/plain": [
       "0.9362004766821975"
      ]
     },
     "execution_count": 18,
     "metadata": {},
     "output_type": "execute_result"
    }
   ],
   "source": [
    "corrTW = covTW / (sT * sW)\n",
    "corrTW"
   ]
  },
  {
   "cell_type": "markdown",
   "metadata": {},
   "source": [
    "**Conclusión.**\n",
    "- Es una medida normalizada de la fluctuación relativa de los rendimientos de dos activos.\n",
    "- En los ejemplos que vimos, sería conveniente invertir en el portafolio de Toyota y Pfizer puesto que su correlación es negativa, y esto impactaría positivamente en la diversificación del riesgo.\n",
    "\n",
    "___"
   ]
  },
  {
   "cell_type": "markdown",
   "metadata": {},
   "source": [
    "## 2. Uniendo todo..."
   ]
  },
  {
   "cell_type": "markdown",
   "metadata": {},
   "source": [
    "- Entonces, vimos mediante ejemplos que el riesgo en un portafolio se ve afectado significativamente por como los rendimientos de los activos se mueven relativamente.\n",
    "- Este movimiento relativo lo medimos mediante la covarianza o la correlación.\n",
    "- Si se mueven de una manera que no están perfectamente correlacionados ($\\rho<1$), entonces el riesgo del portafolio siempre será menor que el promedio ponderado de los riesgos individuales."
   ]
  },
  {
   "cell_type": "markdown",
   "metadata": {},
   "source": [
    "<img style=\"float: left; margin: 0px 0px 15px 15px;\" src=\"https://www.publicdomainpictures.net/pictures/20000/velka/happy-child.jpg\" width=\"300px\" height=\"200px\" />\n",
    "\n",
    "## Ésta es la razón por la que combinar activos en un portafolio permite diversificar el riesgo..."
   ]
  },
  {
   "cell_type": "markdown",
   "metadata": {},
   "source": [
    "Entonces, ¿cómo podemos incorporar esta medida en el cálculo de la varianza del portafolio? \n",
    "- <font color=blue> Ver en el tablero...</font>\n",
    "- ¿Cómo sería para dos activos?"
   ]
  },
  {
   "cell_type": "markdown",
   "metadata": {},
   "source": [
    "**Ejemplo.** Calcular por fórmula para el portafolio de Toyota y Pfizer. Comparar."
   ]
  },
  {
   "cell_type": "code",
   "execution_count": 19,
   "metadata": {},
   "outputs": [
    {
     "data": {
      "text/plain": [
       "0.012867109232457772"
      ]
     },
     "execution_count": 19,
     "metadata": {},
     "output_type": "execute_result"
    }
   ],
   "source": [
    "sTP"
   ]
  },
  {
   "cell_type": "code",
   "execution_count": 20,
   "metadata": {},
   "outputs": [
    {
     "data": {
      "text/plain": [
       "(0.012867109232457761, 0.012867109232457772)"
      ]
     },
     "execution_count": 20,
     "metadata": {},
     "output_type": "execute_result"
    }
   ],
   "source": [
    "w1, w2 = 0.5, 0.5\n",
    "sTP_formula = ((w1 * sT)**2 + 2 * w1 * w2 * covTP + (w2 * sP)**2)**0.5\n",
    "sTP_formula, sTP"
   ]
  },
  {
   "cell_type": "markdown",
   "metadata": {},
   "source": [
    "**Actividad.** Calcular por fórmula para el portafolio de Toyota y Walmart. Comparar."
   ]
  },
  {
   "cell_type": "code",
   "execution_count": 21,
   "metadata": {},
   "outputs": [
    {
     "data": {
      "text/plain": [
       "0.03164747225293041"
      ]
     },
     "execution_count": 21,
     "metadata": {},
     "output_type": "execute_result"
    }
   ],
   "source": [
    "sTW"
   ]
  },
  {
   "cell_type": "code",
   "execution_count": 22,
   "metadata": {},
   "outputs": [
    {
     "data": {
      "text/plain": [
       "(0.03164747225293041, 0.03164747225293041)"
      ]
     },
     "execution_count": 22,
     "metadata": {},
     "output_type": "execute_result"
    }
   ],
   "source": [
    "w1, w2 = 0.5, 0.5\n",
    "sTW_formula = ((w1 * sT)**2 + 2 * w1 * w2 * covTW + (w2 * sW)**2)**0.5\n",
    "sTW_formula, sTW"
   ]
  },
  {
   "cell_type": "markdown",
   "metadata": {},
   "source": [
    "## 2.1. <font color=blue> Ver en el tablero...</font>\n",
    "### Matriz de varianza covarianza.\n",
    "### Matriz de correlación."
   ]
  },
  {
   "cell_type": "markdown",
   "metadata": {},
   "source": [
    "# Anuncios parroquiales\n",
    "\n",
    "## 1. Recordar quiz la siguiente clase. Temas: Clases 6 y 7.\n",
    "## 2. Tarea: revisar archivo \"Tarea4_MidiendoRendimientoRiesgo\" en clase. "
   ]
  },
  {
   "cell_type": "markdown",
   "metadata": {},
   "source": [
    "<script>\n",
    "  $(document).ready(function(){\n",
    "    $('div.prompt').hide();\n",
    "    $('div.back-to-top').hide();\n",
    "    $('nav#menubar').hide();\n",
    "    $('.breadcrumb').hide();\n",
    "    $('.hidden-print').hide();\n",
    "  });\n",
    "</script>\n",
    "\n",
    "<footer id=\"attribution\" style=\"float:right; color:#808080; background:#fff;\">\n",
    "Created with Jupyter by Esteban Jiménez Rodríguez.\n",
    "</footer>"
   ]
  }
 ],
 "metadata": {
  "kernelspec": {
   "display_name": "Python 3",
   "language": "python",
   "name": "python3"
  },
  "language_info": {
   "codemirror_mode": {
    "name": "ipython",
    "version": 3
   },
   "file_extension": ".py",
   "mimetype": "text/x-python",
   "name": "python",
   "nbconvert_exporter": "python",
   "pygments_lexer": "ipython3",
   "version": "3.7.3"
  }
 },
 "nbformat": 4,
 "nbformat_minor": 2
}
