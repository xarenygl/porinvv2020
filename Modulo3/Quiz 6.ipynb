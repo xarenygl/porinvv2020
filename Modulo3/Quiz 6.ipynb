{
 "cells": [
  {
   "cell_type": "markdown",
   "metadata": {},
   "source": [
    "Considere las siguientes inversiones\n",
    "\n",
    "| Inversión |  \tRendimiento esperado $E[r]$ | \tDesviación estándar $\\sigma$ |\n",
    "| --------- | ----------------------------- | ------------------------------ |\n",
    "| A         |               20% \t        |         30%                    |\n",
    "| B \t    |               13%             | \t      15%                    |\n",
    "| C         |            \t23%             |       \t45%                  |\n",
    "\n",
    "¿Cuál inversión brinda más utilidad, si tus preferencias están representadas por la utilidad media-varianza y tu coeficiente de aversión al riesgo es 3?"
   ]
  },
  {
   "cell_type": "code",
   "execution_count": 1,
   "metadata": {},
   "outputs": [
    {
     "data": {
      "text/plain": [
       "(0.065, 0.09625, -0.07375000000000001)"
      ]
     },
     "execution_count": 1,
     "metadata": {},
     "output_type": "execute_result"
    }
   ],
   "source": [
    "g = 3\n",
    "UA = 0.2 - 0.5 * g * 0.3**2\n",
    "UB = 0.13 - 0.5 * g * 0.15**2\n",
    "UC = 0.23 - 0.5 * g * 0.45**2\n",
    "UA, UB, UC"
   ]
  },
  {
   "cell_type": "markdown",
   "metadata": {},
   "source": [
    "Considere las siguientes inversiones\n",
    "\n",
    "| Inversión |  \tRendimiento esperado $E[r]$ | \tDesviación estándar $\\sigma$ |\n",
    "| --------- | ----------------------------- | ------------------------------ |\n",
    "| A         |               20% \t        |         30%                    |\n",
    "| B \t    |               13%             | \t      15%                    |\n",
    "| C         |            \t23%             |       \t45%                  |\n",
    "\n",
    "¿Cuál inversión brinda más utilidad, si tus preferencias están representadas por la utilidad media-varianza y eres un inversionista neutral al riesgo?\n"
   ]
  },
  {
   "cell_type": "code",
   "execution_count": 2,
   "metadata": {},
   "outputs": [
    {
     "data": {
      "text/plain": [
       "(0.2, 0.13, 0.23)"
      ]
     },
     "execution_count": 2,
     "metadata": {},
     "output_type": "execute_result"
    }
   ],
   "source": [
    "g = 0\n",
    "UA = 0.2 - 0.5 * g * 0.3**2\n",
    "UB = 0.13 - 0.5 * g * 0.15**2\n",
    "UC = 0.23 - 0.5 * g * 0.45**2\n",
    "UA, UB, UC"
   ]
  },
  {
   "cell_type": "markdown",
   "metadata": {},
   "source": [
    "Tu asesor financiero te ofrece un portafolio de activos de la BMV con un rendimiento esperado del 20% y una desviación estándar del 30%. Supón que en ese mismo momento, puedes comprar cetes ofreciendo un rendimiento del 5% libre de riesgo. Supón también que tus preferencias se pueden describir mediante utilidad media-varianza y que tu coeficiente de aversión al riesgo es de γ=2. ¿Qué preferirías?"
   ]
  },
  {
   "cell_type": "code",
   "execution_count": 3,
   "metadata": {},
   "outputs": [
    {
     "data": {
      "text/plain": [
       "(0.11000000000000001, 0.05)"
      ]
     },
     "execution_count": 3,
     "metadata": {},
     "output_type": "execute_result"
    }
   ],
   "source": [
    "g = 2\n",
    "U_BMV = 0.2 - 0.5 * g * 0.3**2\n",
    "U_CETES = 0.05 - 0.5 * g * 0**2\n",
    "U_BMV, U_CETES"
   ]
  },
  {
   "cell_type": "code",
   "execution_count": null,
   "metadata": {},
   "outputs": [],
   "source": []
  }
 ],
 "metadata": {
  "kernelspec": {
   "display_name": "Python 3",
   "language": "python",
   "name": "python3"
  },
  "language_info": {
   "codemirror_mode": {
    "name": "ipython",
    "version": 3
   },
   "file_extension": ".py",
   "mimetype": "text/x-python",
   "name": "python",
   "nbconvert_exporter": "python",
   "pygments_lexer": "ipython3",
   "version": "3.7.6"
  }
 },
 "nbformat": 4,
 "nbformat_minor": 4
}
