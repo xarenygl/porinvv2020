{
 "cells": [
  {
   "cell_type": "markdown",
   "metadata": {},
   "source": [
    "# Selección de portafolios usando simulación Montecarlo"
   ]
  },
  {
   "cell_type": "markdown",
   "metadata": {},
   "source": [
    "<img style=\"float: right; margin: 0px 0px 15px 15px;\" src=\"https://upload.wikimedia.org/wikipedia/commons/thumb/6/6e/Separation_theorem_of_MPT.svg/2000px-Separation_theorem_of_MPT.svg.png\" width=\"400px\" height=\"400px\" />\n",
    "\n",
    "> Durante el curso, específicamente en los módulos dos y tres, elaboramos toda la fundamentación de la teoría moderna de portafolios de Markowitz. Ésta se basa en la existencia de una línea especial en el espacio de rendimiento esperado vs. volatilidad, llamada **frontera de mínima varianza**.\n",
    "\n",
    "> Al finalizar el módulo 3, vimos que no importa la cantidad de activos riesgosos que se tengan, si encontramos dos portafolios sobre la frontera eficiente, podemos reconstruirla. Dos portafolios importantes que hallamos en el curso fueron:\n",
    "\n",
    "> - **Portafolio de mínima varianza**: minimizando la varianza.\n",
    "> - **Portafolio eficiente en media varianza**: maximizando el radio de Sharpe.\n",
    "\n",
    "> Por otra parte, resolver problemas de optimización cuando la cantidad de variables crece, se vuelve un problema complejo, computacionalmente hablando. Así que desarrollar métodos alternativos a la optimización que nos permitan encontrar los anteriores portafolios es de gran interés..."
   ]
  },
  {
   "cell_type": "markdown",
   "metadata": {},
   "source": [
    "## 1. Descargamos activos de la BMV\n",
    "\n",
    "Por simplicidad, y para entender las ideas alrededor de la selección de portafolios usando simulación montecarlo, utilizaremos únicamente tres activos de la BMV: Cemex, Grupo Carso y Grupo Financiero Banorte."
   ]
  },
  {
   "cell_type": "markdown",
   "metadata": {},
   "source": [
    "1.1. Descargar precios mensuales ajustados en el cierre para los tres activos mencionados anteriormente en los últimos 5 años:"
   ]
  },
  {
   "cell_type": "code",
   "execution_count": 1,
   "metadata": {},
   "outputs": [
    {
     "name": "stderr",
     "output_type": "stream",
     "text": [
      "/home/esteban/anaconda3/lib/python3.7/site-packages/pandas_datareader/compat/__init__.py:7: FutureWarning: pandas.util.testing is deprecated. Use the functions in the public API at pandas.testing instead.\n",
      "  from pandas.util.testing import assert_frame_equal\n"
     ]
    }
   ],
   "source": [
    "# Importar librerías\n",
    "import numpy as np\n",
    "import pandas as pd\n",
    "import pandas_datareader.data as web\n",
    "import matplotlib.pyplot as plt\n",
    "%matplotlib inline"
   ]
  },
  {
   "cell_type": "code",
   "execution_count": 2,
   "metadata": {},
   "outputs": [],
   "source": [
    "# Función para descargar precios de cierre ajustados:\n",
    "def get_adj_closes(tickers, start_date=None, end_date=None, freq='m'):\n",
    "    # Fecha inicio por defecto (start_date='2010-01-01') y fecha fin por defecto (end_date=today)\n",
    "    # Descargamos DataFrame con todos los datos\n",
    "    closes = web.YahooDailyReader(symbols=tickers, start=start_date, end=end_date, interval=freq).read()['Adj Close']\n",
    "    # Se ordenan los índices de manera ascendente\n",
    "    closes.sort_index(inplace=True)\n",
    "    return closes"
   ]
  },
  {
   "cell_type": "code",
   "execution_count": 13,
   "metadata": {},
   "outputs": [
    {
     "data": {
      "text/html": [
       "<div>\n",
       "<style scoped>\n",
       "    .dataframe tbody tr th:only-of-type {\n",
       "        vertical-align: middle;\n",
       "    }\n",
       "\n",
       "    .dataframe tbody tr th {\n",
       "        vertical-align: top;\n",
       "    }\n",
       "\n",
       "    .dataframe thead th {\n",
       "        text-align: right;\n",
       "    }\n",
       "</style>\n",
       "<table border=\"1\" class=\"dataframe\">\n",
       "  <thead>\n",
       "    <tr style=\"text-align: right;\">\n",
       "      <th>Symbols</th>\n",
       "      <th>CEMEXCPO.MX</th>\n",
       "      <th>GCARSOA1.MX</th>\n",
       "      <th>GFNORTEO.MX</th>\n",
       "    </tr>\n",
       "    <tr>\n",
       "      <th>Date</th>\n",
       "      <th></th>\n",
       "      <th></th>\n",
       "      <th></th>\n",
       "    </tr>\n",
       "  </thead>\n",
       "  <tbody>\n",
       "    <tr>\n",
       "      <th>2010-07-01</th>\n",
       "      <td>8.873960</td>\n",
       "      <td>20.450098</td>\n",
       "      <td>40.717892</td>\n",
       "    </tr>\n",
       "    <tr>\n",
       "      <th>2010-08-01</th>\n",
       "      <td>7.614719</td>\n",
       "      <td>25.146137</td>\n",
       "      <td>39.025085</td>\n",
       "    </tr>\n",
       "    <tr>\n",
       "      <th>2010-09-01</th>\n",
       "      <td>7.985075</td>\n",
       "      <td>27.289686</td>\n",
       "      <td>39.205864</td>\n",
       "    </tr>\n",
       "    <tr>\n",
       "      <th>2010-10-01</th>\n",
       "      <td>8.014708</td>\n",
       "      <td>30.608418</td>\n",
       "      <td>43.281757</td>\n",
       "    </tr>\n",
       "    <tr>\n",
       "      <th>2010-11-01</th>\n",
       "      <td>8.385074</td>\n",
       "      <td>33.215607</td>\n",
       "      <td>44.356594</td>\n",
       "    </tr>\n",
       "  </tbody>\n",
       "</table>\n",
       "</div>"
      ],
      "text/plain": [
       "Symbols     CEMEXCPO.MX  GCARSOA1.MX  GFNORTEO.MX\n",
       "Date                                             \n",
       "2010-07-01     8.873960    20.450098    40.717892\n",
       "2010-08-01     7.614719    25.146137    39.025085\n",
       "2010-09-01     7.985075    27.289686    39.205864\n",
       "2010-10-01     8.014708    30.608418    43.281757\n",
       "2010-11-01     8.385074    33.215607    44.356594"
      ]
     },
     "execution_count": 13,
     "metadata": {},
     "output_type": "execute_result"
    }
   ],
   "source": [
    "# Descargar precios y graficar\n",
    "start = '2010-07-01'\n",
    "end = '2020-07-01'\n",
    "names = ['CEMEXCPO.MX', 'GCARSOA1.MX', 'GFNORTEO.MX']\n",
    "closes = get_adj_closes(tickers=names, start_date=start, end_date=end)\n",
    "closes.head()"
   ]
  },
  {
   "cell_type": "code",
   "execution_count": 14,
   "metadata": {},
   "outputs": [
    {
     "data": {
      "text/plain": [
       "<matplotlib.axes._subplots.AxesSubplot at 0x7f9cb2d49210>"
      ]
     },
     "execution_count": 14,
     "metadata": {},
     "output_type": "execute_result"
    },
    {
     "data": {
      "image/png": "[encoded data removed]",
      "text/plain": [
       "<Figure size 432x288 with 1 Axes>"
      ]
     },
     "metadata": {
      "needs_background": "light"
     },
     "output_type": "display_data"
    }
   ],
   "source": [
    "closes.plot()"
   ]
  },
  {
   "cell_type": "markdown",
   "metadata": {},
   "source": [
    "1.2. A partir de los precios, obtener los rendimientos mensuales:"
   ]
  },
  {
   "cell_type": "code",
   "execution_count": 15,
   "metadata": {},
   "outputs": [
    {
     "data": {
      "text/html": [
       "<div>\n",
       "<style scoped>\n",
       "    .dataframe tbody tr th:only-of-type {\n",
       "        vertical-align: middle;\n",
       "    }\n",
       "\n",
       "    .dataframe tbody tr th {\n",
       "        vertical-align: top;\n",
       "    }\n",
       "\n",
       "    .dataframe thead th {\n",
       "        text-align: right;\n",
       "    }\n",
       "</style>\n",
       "<table border=\"1\" class=\"dataframe\">\n",
       "  <thead>\n",
       "    <tr style=\"text-align: right;\">\n",
       "      <th>Symbols</th>\n",
       "      <th>CEMEXCPO.MX</th>\n",
       "      <th>GCARSOA1.MX</th>\n",
       "      <th>GFNORTEO.MX</th>\n",
       "    </tr>\n",
       "    <tr>\n",
       "      <th>Date</th>\n",
       "      <th></th>\n",
       "      <th></th>\n",
       "      <th></th>\n",
       "    </tr>\n",
       "  </thead>\n",
       "  <tbody>\n",
       "    <tr>\n",
       "      <th>2010-08-01</th>\n",
       "      <td>-0.141903</td>\n",
       "      <td>0.229634</td>\n",
       "      <td>-0.041574</td>\n",
       "    </tr>\n",
       "    <tr>\n",
       "      <th>2010-09-01</th>\n",
       "      <td>0.048637</td>\n",
       "      <td>0.085244</td>\n",
       "      <td>0.004632</td>\n",
       "    </tr>\n",
       "    <tr>\n",
       "      <th>2010-10-01</th>\n",
       "      <td>0.003711</td>\n",
       "      <td>0.121611</td>\n",
       "      <td>0.103961</td>\n",
       "    </tr>\n",
       "    <tr>\n",
       "      <th>2010-11-01</th>\n",
       "      <td>0.046211</td>\n",
       "      <td>0.085179</td>\n",
       "      <td>0.024833</td>\n",
       "    </tr>\n",
       "    <tr>\n",
       "      <th>2010-12-01</th>\n",
       "      <td>0.163426</td>\n",
       "      <td>0.025252</td>\n",
       "      <td>0.094255</td>\n",
       "    </tr>\n",
       "  </tbody>\n",
       "</table>\n",
       "</div>"
      ],
      "text/plain": [
       "Symbols     CEMEXCPO.MX  GCARSOA1.MX  GFNORTEO.MX\n",
       "Date                                             \n",
       "2010-08-01    -0.141903     0.229634    -0.041574\n",
       "2010-09-01     0.048637     0.085244     0.004632\n",
       "2010-10-01     0.003711     0.121611     0.103961\n",
       "2010-11-01     0.046211     0.085179     0.024833\n",
       "2010-12-01     0.163426     0.025252     0.094255"
      ]
     },
     "execution_count": 15,
     "metadata": {},
     "output_type": "execute_result"
    }
   ],
   "source": [
    "# Obtener rendimientos mensuales y graficar\n",
    "ret = closes.pct_change().dropna()\n",
    "ret.head()"
   ]
  },
  {
   "cell_type": "code",
   "execution_count": 16,
   "metadata": {},
   "outputs": [
    {
     "data": {
      "text/plain": [
       "<matplotlib.axes._subplots.AxesSubplot at 0x7f9cb2d9e6d0>"
      ]
     },
     "execution_count": 16,
     "metadata": {},
     "output_type": "execute_result"
    },
    {
     "data": {
      "image/png": "[encoded data removed]",
      "text/plain": [
       "<Figure size 432x288 with 1 Axes>"
      ]
     },
     "metadata": {
      "needs_background": "light"
     },
     "output_type": "display_data"
    }
   ],
   "source": [
    "ret.plot()"
   ]
  },
  {
   "cell_type": "markdown",
   "metadata": {},
   "source": [
    "1.3. Finalmente, a partir de los rendimientos mensuales, estimar la tendencia central de los rendimientos (rendimiento esperado), y caracterizar el riesgo de los activos (varianzas y covarianzas)"
   ]
  },
  {
   "cell_type": "code",
   "execution_count": 17,
   "metadata": {},
   "outputs": [
    {
     "data": {
      "text/html": [
       "<div>\n",
       "<style scoped>\n",
       "    .dataframe tbody tr th:only-of-type {\n",
       "        vertical-align: middle;\n",
       "    }\n",
       "\n",
       "    .dataframe tbody tr th {\n",
       "        vertical-align: top;\n",
       "    }\n",
       "\n",
       "    .dataframe thead th {\n",
       "        text-align: right;\n",
       "    }\n",
       "</style>\n",
       "<table border=\"1\" class=\"dataframe\">\n",
       "  <thead>\n",
       "    <tr style=\"text-align: right;\">\n",
       "      <th></th>\n",
       "      <th>Media</th>\n",
       "      <th>Vol</th>\n",
       "    </tr>\n",
       "    <tr>\n",
       "      <th>Symbols</th>\n",
       "      <th></th>\n",
       "      <th></th>\n",
       "    </tr>\n",
       "  </thead>\n",
       "  <tbody>\n",
       "    <tr>\n",
       "      <th>CEMEXCPO.MX</th>\n",
       "      <td>0.002935</td>\n",
       "      <td>0.106644</td>\n",
       "    </tr>\n",
       "    <tr>\n",
       "      <th>GCARSOA1.MX</th>\n",
       "      <td>0.009621</td>\n",
       "      <td>0.072998</td>\n",
       "    </tr>\n",
       "    <tr>\n",
       "      <th>GFNORTEO.MX</th>\n",
       "      <td>0.009098</td>\n",
       "      <td>0.077731</td>\n",
       "    </tr>\n",
       "  </tbody>\n",
       "</table>\n",
       "</div>"
      ],
      "text/plain": [
       "                Media       Vol\n",
       "Symbols                        \n",
       "CEMEXCPO.MX  0.002935  0.106644\n",
       "GCARSOA1.MX  0.009621  0.072998\n",
       "GFNORTEO.MX  0.009098  0.077731"
      ]
     },
     "execution_count": 17,
     "metadata": {},
     "output_type": "execute_result"
    }
   ],
   "source": [
    "# Resumen: rendimiento medio mensual y volatilidad\n",
    "summary = pd.DataFrame({'Media': ret.mean(), 'Vol': ret.std()})\n",
    "summary"
   ]
  },
  {
   "cell_type": "code",
   "execution_count": 18,
   "metadata": {},
   "outputs": [
    {
     "data": {
      "text/html": [
       "<div>\n",
       "<style scoped>\n",
       "    .dataframe tbody tr th:only-of-type {\n",
       "        vertical-align: middle;\n",
       "    }\n",
       "\n",
       "    .dataframe tbody tr th {\n",
       "        vertical-align: top;\n",
       "    }\n",
       "\n",
       "    .dataframe thead th {\n",
       "        text-align: right;\n",
       "    }\n",
       "</style>\n",
       "<table border=\"1\" class=\"dataframe\">\n",
       "  <thead>\n",
       "    <tr style=\"text-align: right;\">\n",
       "      <th>Symbols</th>\n",
       "      <th>CEMEXCPO.MX</th>\n",
       "      <th>GCARSOA1.MX</th>\n",
       "      <th>GFNORTEO.MX</th>\n",
       "    </tr>\n",
       "    <tr>\n",
       "      <th>Symbols</th>\n",
       "      <th></th>\n",
       "      <th></th>\n",
       "      <th></th>\n",
       "    </tr>\n",
       "  </thead>\n",
       "  <tbody>\n",
       "    <tr>\n",
       "      <th>CEMEXCPO.MX</th>\n",
       "      <td>0.011373</td>\n",
       "      <td>0.002372</td>\n",
       "      <td>0.003534</td>\n",
       "    </tr>\n",
       "    <tr>\n",
       "      <th>GCARSOA1.MX</th>\n",
       "      <td>0.002372</td>\n",
       "      <td>0.005329</td>\n",
       "      <td>0.002118</td>\n",
       "    </tr>\n",
       "    <tr>\n",
       "      <th>GFNORTEO.MX</th>\n",
       "      <td>0.003534</td>\n",
       "      <td>0.002118</td>\n",
       "      <td>0.006042</td>\n",
       "    </tr>\n",
       "  </tbody>\n",
       "</table>\n",
       "</div>"
      ],
      "text/plain": [
       "Symbols      CEMEXCPO.MX  GCARSOA1.MX  GFNORTEO.MX\n",
       "Symbols                                           \n",
       "CEMEXCPO.MX     0.011373     0.002372     0.003534\n",
       "GCARSOA1.MX     0.002372     0.005329     0.002118\n",
       "GFNORTEO.MX     0.003534     0.002118     0.006042"
      ]
     },
     "execution_count": 18,
     "metadata": {},
     "output_type": "execute_result"
    }
   ],
   "source": [
    "# Matriz de covarianza\n",
    "Sigma = ret.cov()\n",
    "Sigma"
   ]
  },
  {
   "cell_type": "code",
   "execution_count": 19,
   "metadata": {},
   "outputs": [
    {
     "data": {
      "text/html": [
       "<div>\n",
       "<style scoped>\n",
       "    .dataframe tbody tr th:only-of-type {\n",
       "        vertical-align: middle;\n",
       "    }\n",
       "\n",
       "    .dataframe tbody tr th {\n",
       "        vertical-align: top;\n",
       "    }\n",
       "\n",
       "    .dataframe thead th {\n",
       "        text-align: right;\n",
       "    }\n",
       "</style>\n",
       "<table border=\"1\" class=\"dataframe\">\n",
       "  <thead>\n",
       "    <tr style=\"text-align: right;\">\n",
       "      <th>Symbols</th>\n",
       "      <th>CEMEXCPO.MX</th>\n",
       "      <th>GCARSOA1.MX</th>\n",
       "      <th>GFNORTEO.MX</th>\n",
       "    </tr>\n",
       "    <tr>\n",
       "      <th>Symbols</th>\n",
       "      <th></th>\n",
       "      <th></th>\n",
       "      <th></th>\n",
       "    </tr>\n",
       "  </thead>\n",
       "  <tbody>\n",
       "    <tr>\n",
       "      <th>CEMEXCPO.MX</th>\n",
       "      <td>1.000000</td>\n",
       "      <td>0.304754</td>\n",
       "      <td>0.426292</td>\n",
       "    </tr>\n",
       "    <tr>\n",
       "      <th>GCARSOA1.MX</th>\n",
       "      <td>0.304754</td>\n",
       "      <td>1.000000</td>\n",
       "      <td>0.373259</td>\n",
       "    </tr>\n",
       "    <tr>\n",
       "      <th>GFNORTEO.MX</th>\n",
       "      <td>0.426292</td>\n",
       "      <td>0.373259</td>\n",
       "      <td>1.000000</td>\n",
       "    </tr>\n",
       "  </tbody>\n",
       "</table>\n",
       "</div>"
      ],
      "text/plain": [
       "Symbols      CEMEXCPO.MX  GCARSOA1.MX  GFNORTEO.MX\n",
       "Symbols                                           \n",
       "CEMEXCPO.MX     1.000000     0.304754     0.426292\n",
       "GCARSOA1.MX     0.304754     1.000000     0.373259\n",
       "GFNORTEO.MX     0.426292     0.373259     1.000000"
      ]
     },
     "execution_count": 19,
     "metadata": {},
     "output_type": "execute_result"
    }
   ],
   "source": [
    "# Matriz de correlación\n",
    "R = ret.corr()\n",
    "R"
   ]
  },
  {
   "cell_type": "markdown",
   "metadata": {},
   "source": [
    "___\n",
    "## 2. Selección de portafolios mediante montecarlo\n",
    "\n",
    "Antes de continuar, consultamos la tasa libre de riesgo al día de hoy en [Banxico](http://www.banxico.org.mx/):"
   ]
  },
  {
   "cell_type": "code",
   "execution_count": 20,
   "metadata": {},
   "outputs": [],
   "source": [
    "# Tasa libre de riesgo\n",
    "rf = 0.0495 / 12"
   ]
  },
  {
   "cell_type": "markdown",
   "metadata": {},
   "source": [
    "¿Alguien tiene alguna idea de lo que es simulación montecarlo?\n",
    "\n",
    "En cuanto a la selección de portafolios, lo que hacemos es simular una gran cantidad de posibles portafolios que se pueden construir con los activos dados (generamos muchas ponderaciones posibles), y calculamos su rendimiento esperado y volatilidad para dibujarlos, y así poder identificar objetos de interés:\n",
    "\n",
    "- frontera eficiente;\n",
    "- portafolio de mínima varianza;\n",
    "- portafolio EMV..."
   ]
  },
  {
   "cell_type": "code",
   "execution_count": 23,
   "metadata": {},
   "outputs": [],
   "source": [
    "# Definimos el número de portafolios que simularemos, y la cantidad de activos que tenemos\n",
    "n_act = len(summary)\n",
    "n_port = 10**6"
   ]
  },
  {
   "cell_type": "markdown",
   "metadata": {},
   "source": [
    "2.1. Generamos los portafolios"
   ]
  },
  {
   "cell_type": "code",
   "execution_count": 24,
   "metadata": {},
   "outputs": [
    {
     "name": "stdout",
     "output_type": "stream",
     "text": [
      "Help on built-in function dirichlet:\n",
      "\n",
      "dirichlet(...) method of numpy.random.mtrand.RandomState instance\n",
      "    dirichlet(alpha, size=None)\n",
      "    \n",
      "    Draw samples from the Dirichlet distribution.\n",
      "    \n",
      "    Draw `size` samples of dimension k from a Dirichlet distribution. A\n",
      "    Dirichlet-distributed random variable can be seen as a multivariate\n",
      "    generalization of a Beta distribution. The Dirichlet distribution\n",
      "    is a conjugate prior of a multinomial distribution in Bayesian\n",
      "    inference.\n",
      "    \n",
      "    .. note::\n",
      "        New code should use the ``dirichlet`` method of a ``default_rng()``\n",
      "        instance instead; see `random-quick-start`.\n",
      "    \n",
      "    Parameters\n",
      "    ----------\n",
      "    alpha : array\n",
      "        Parameter of the distribution (k dimension for sample of\n",
      "        dimension k).\n",
      "    size : int or tuple of ints, optional\n",
      "        Output shape.  If the given shape is, e.g., ``(m, n, k)``, then\n",
      "        ``m * n * k`` samples are drawn.  Default is None, in which case a\n",
      "        single value is returned.\n",
      "    \n",
      "    Returns\n",
      "    -------\n",
      "    samples : ndarray,\n",
      "        The drawn samples, of shape (size, alpha.ndim).\n",
      "    \n",
      "    Raises\n",
      "    -------\n",
      "    ValueError\n",
      "        If any value in alpha is less than or equal to zero\n",
      "    \n",
      "    See Also\n",
      "    --------\n",
      "    Generator.dirichlet: which should be used for new code.\n",
      "    \n",
      "    Notes\n",
      "    -----\n",
      "    The Dirichlet distribution is a distribution over vectors\n",
      "    :math:`x` that fulfil the conditions :math:`x_i>0` and\n",
      "    :math:`\\sum_{i=1}^k x_i = 1`.\n",
      "    \n",
      "    The probability density function :math:`p` of a\n",
      "    Dirichlet-distributed random vector :math:`X` is\n",
      "    proportional to\n",
      "    \n",
      "    .. math:: p(x) \\propto \\prod_{i=1}^{k}{x^{\\alpha_i-1}_i},\n",
      "    \n",
      "    where :math:`\\alpha` is a vector containing the positive\n",
      "    concentration parameters.\n",
      "    \n",
      "    The method uses the following property for computation: let :math:`Y`\n",
      "    be a random vector which has components that follow a standard gamma\n",
      "    distribution, then :math:`X = \\frac{1}{\\sum_{i=1}^k{Y_i}} Y`\n",
      "    is Dirichlet-distributed\n",
      "    \n",
      "    References\n",
      "    ----------\n",
      "    .. [1] David McKay, \"Information Theory, Inference and Learning\n",
      "           Algorithms,\" chapter 23,\n",
      "           http://www.inference.org.uk/mackay/itila/\n",
      "    .. [2] Wikipedia, \"Dirichlet distribution\",\n",
      "           https://en.wikipedia.org/wiki/Dirichlet_distribution\n",
      "    \n",
      "    Examples\n",
      "    --------\n",
      "    Taking an example cited in Wikipedia, this distribution can be used if\n",
      "    one wanted to cut strings (each of initial length 1.0) into K pieces\n",
      "    with different lengths, where each piece had, on average, a designated\n",
      "    average length, but allowing some variation in the relative sizes of\n",
      "    the pieces.\n",
      "    \n",
      "    >>> s = np.random.dirichlet((10, 5, 3), 20).transpose()\n",
      "    \n",
      "    >>> import matplotlib.pyplot as plt\n",
      "    >>> plt.barh(range(20), s[0])\n",
      "    >>> plt.barh(range(20), s[1], left=s[0], color='g')\n",
      "    >>> plt.barh(range(20), s[2], left=s[0]+s[1], color='r')\n",
      "    >>> plt.title(\"Lengths of Strings\")\n",
      "\n"
     ]
    }
   ],
   "source": [
    "# Ayuda en la funcion numpy.random.dirichlet\n",
    "help(np.random.dirichlet)"
   ]
  },
  {
   "cell_type": "code",
   "execution_count": 35,
   "metadata": {
    "scrolled": true
   },
   "outputs": [
    {
     "data": {
      "text/plain": [
       "array([[0.71818217, 0.01341604, 0.26840179],\n",
       "       [0.72977702, 0.08486635, 0.18535663],\n",
       "       [0.76536298, 0.09433273, 0.14030429],\n",
       "       ...,\n",
       "       [0.08179194, 0.91145396, 0.0067541 ],\n",
       "       [0.31727532, 0.20635073, 0.47637395],\n",
       "       [0.34673511, 0.11207213, 0.54119276]])"
      ]
     },
     "execution_count": 35,
     "metadata": {},
     "output_type": "execute_result"
    }
   ],
   "source": [
    "# Generar una matriz de pesos de n_port x n_act, tal que cada fila sume uno (recordar restricción)\n",
    "W = np.random.dirichlet(np.ones((n_act,)), size=n_port)\n",
    "W"
   ]
  },
  {
   "cell_type": "code",
   "execution_count": 30,
   "metadata": {},
   "outputs": [
    {
     "data": {
      "text/plain": [
       "(1000000, 3)"
      ]
     },
     "execution_count": 30,
     "metadata": {},
     "output_type": "execute_result"
    }
   ],
   "source": [
    "W.shape"
   ]
  },
  {
   "cell_type": "code",
   "execution_count": 36,
   "metadata": {},
   "outputs": [
    {
     "data": {
      "text/plain": [
       "array([1., 1., 1., ..., 1., 1., 1.])"
      ]
     },
     "execution_count": 36,
     "metadata": {},
     "output_type": "execute_result"
    }
   ],
   "source": [
    "W.sum(axis=1)"
   ]
  },
  {
   "cell_type": "code",
   "execution_count": 32,
   "metadata": {},
   "outputs": [
    {
     "data": {
      "text/plain": [
       "(array([0.00293452, 0.00962113, 0.00909761]),\n",
       " array([0.10664371, 0.07299829, 0.07773064]))"
      ]
     },
     "execution_count": 32,
     "metadata": {},
     "output_type": "execute_result"
    }
   ],
   "source": [
    "# Rendimientos y volatilidad de cada portafolios\n",
    "Eind = summary['Media'].values\n",
    "s = summary['Vol'].values\n",
    "Eind, s"
   ]
  },
  {
   "cell_type": "code",
   "execution_count": 37,
   "metadata": {},
   "outputs": [],
   "source": [
    "E_port = W.dot(Eind)"
   ]
  },
  {
   "cell_type": "code",
   "execution_count": 39,
   "metadata": {},
   "outputs": [],
   "source": [
    "s_port = np.zeros((n_port,))\n",
    "for i in range(n_port):\n",
    "    s_port[i] = (W[i].dot(Sigma).dot(W[i]))**0.5"
   ]
  },
  {
   "cell_type": "code",
   "execution_count": 40,
   "metadata": {},
   "outputs": [],
   "source": [
    "# Radio de Sharpe\n",
    "RS = (E_port - rf) / s_port"
   ]
  },
  {
   "cell_type": "code",
   "execution_count": 41,
   "metadata": {},
   "outputs": [
    {
     "data": {
      "text/html": [
       "<div>\n",
       "<style scoped>\n",
       "    .dataframe tbody tr th:only-of-type {\n",
       "        vertical-align: middle;\n",
       "    }\n",
       "\n",
       "    .dataframe tbody tr th {\n",
       "        vertical-align: top;\n",
       "    }\n",
       "\n",
       "    .dataframe thead th {\n",
       "        text-align: right;\n",
       "    }\n",
       "</style>\n",
       "<table border=\"1\" class=\"dataframe\">\n",
       "  <thead>\n",
       "    <tr style=\"text-align: right;\">\n",
       "      <th></th>\n",
       "      <th>w(CEMEX)</th>\n",
       "      <th>w(GCARSO)</th>\n",
       "      <th>w(GFNORTE)</th>\n",
       "      <th>Media</th>\n",
       "      <th>Vol</th>\n",
       "      <th>RS</th>\n",
       "    </tr>\n",
       "  </thead>\n",
       "  <tbody>\n",
       "    <tr>\n",
       "      <th>0</th>\n",
       "      <td>0.718182</td>\n",
       "      <td>0.013416</td>\n",
       "      <td>0.268402</td>\n",
       "      <td>0.004678</td>\n",
       "      <td>0.087895</td>\n",
       "      <td>0.006296</td>\n",
       "    </tr>\n",
       "    <tr>\n",
       "      <th>1</th>\n",
       "      <td>0.729777</td>\n",
       "      <td>0.084866</td>\n",
       "      <td>0.185357</td>\n",
       "      <td>0.004644</td>\n",
       "      <td>0.087289</td>\n",
       "      <td>0.005950</td>\n",
       "    </tr>\n",
       "    <tr>\n",
       "      <th>2</th>\n",
       "      <td>0.765363</td>\n",
       "      <td>0.094333</td>\n",
       "      <td>0.140304</td>\n",
       "      <td>0.004430</td>\n",
       "      <td>0.089364</td>\n",
       "      <td>0.003413</td>\n",
       "    </tr>\n",
       "    <tr>\n",
       "      <th>3</th>\n",
       "      <td>0.684902</td>\n",
       "      <td>0.241493</td>\n",
       "      <td>0.073605</td>\n",
       "      <td>0.005003</td>\n",
       "      <td>0.083035</td>\n",
       "      <td>0.010573</td>\n",
       "    </tr>\n",
       "    <tr>\n",
       "      <th>4</th>\n",
       "      <td>0.666533</td>\n",
       "      <td>0.131948</td>\n",
       "      <td>0.201520</td>\n",
       "      <td>0.005059</td>\n",
       "      <td>0.082885</td>\n",
       "      <td>0.011266</td>\n",
       "    </tr>\n",
       "  </tbody>\n",
       "</table>\n",
       "</div>"
      ],
      "text/plain": [
       "   w(CEMEX)  w(GCARSO)  w(GFNORTE)     Media       Vol        RS\n",
       "0  0.718182   0.013416    0.268402  0.004678  0.087895  0.006296\n",
       "1  0.729777   0.084866    0.185357  0.004644  0.087289  0.005950\n",
       "2  0.765363   0.094333    0.140304  0.004430  0.089364  0.003413\n",
       "3  0.684902   0.241493    0.073605  0.005003  0.083035  0.010573\n",
       "4  0.666533   0.131948    0.201520  0.005059  0.082885  0.011266"
      ]
     },
     "execution_count": 41,
     "metadata": {},
     "output_type": "execute_result"
    }
   ],
   "source": [
    "# Data frame de resultados\n",
    "portafolios = pd.DataFrame({'w(CEMEX)': W[:, 0],\n",
    "                            'w(GCARSO)': W[:, 1],\n",
    "                            'w(GFNORTE)': W[:, 2],\n",
    "                            'Media': E_port,\n",
    "                            'Vol': s_port,\n",
    "                            'RS': RS}\n",
    "                          )\n",
    "portafolios.head()"
   ]
  },
  {
   "cell_type": "markdown",
   "metadata": {},
   "source": [
    "2.2. Aproximar portafolio de mínima varianza y portafolio eficiente en media varianza"
   ]
  },
  {
   "cell_type": "code",
   "execution_count": 45,
   "metadata": {},
   "outputs": [
    {
     "data": {
      "text/plain": [
       "w(CEMEX)      0.000055\n",
       "w(GCARSO)     0.603419\n",
       "w(GFNORTE)    0.396527\n",
       "Media         0.009413\n",
       "Vol           0.062483\n",
       "RS            0.084634\n",
       "Name: 200128, dtype: float64"
      ]
     },
     "execution_count": 45,
     "metadata": {},
     "output_type": "execute_result"
    }
   ],
   "source": [
    "# Portafolio EMV\n",
    "port_EMV = portafolios.loc[portafolios['RS'].idxmax()]\n",
    "port_EMV"
   ]
  },
  {
   "cell_type": "code",
   "execution_count": 46,
   "metadata": {},
   "outputs": [
    {
     "data": {
      "text/plain": [
       "w(CEMEX)      0.106574\n",
       "w(GCARSO)     0.508870\n",
       "w(GFNORTE)    0.384556\n",
       "Media         0.008707\n",
       "Vol           0.061469\n",
       "RS            0.074544\n",
       "Name: 949101, dtype: float64"
      ]
     },
     "execution_count": 46,
     "metadata": {},
     "output_type": "execute_result"
    }
   ],
   "source": [
    "# Portafolio mínima varianza\n",
    "port_minvar = portafolios.loc[portafolios['Vol'].idxmin()]\n",
    "port_minvar"
   ]
  },
  {
   "cell_type": "markdown",
   "metadata": {},
   "source": [
    "2.3. Dibujar todos los portafolios en el espacio de rendimiento esperado vs. volatilidad"
   ]
  },
  {
   "cell_type": "code",
   "execution_count": 49,
   "metadata": {},
   "outputs": [
    {
     "data": {
      "text/plain": [
       "[0.06, 0.11, 0.0, 0.012]"
      ]
     },
     "execution_count": 49,
     "metadata": {},
     "output_type": "execute_result"
    },
    {
     "data": {
      "image/png": "[encoded data removed]",
      "text/plain": [
       "<Figure size 432x288 with 2 Axes>"
      ]
     },
     "metadata": {
      "needs_background": "light"
     },
     "output_type": "display_data"
    }
   ],
   "source": [
    "# Gráfica\n",
    "plt.figure(figsize=(6, 4))\n",
    "plt.scatter(s_port, E_port, c=RS, cmap='inferno', label='Portafolios')\n",
    "# EMV\n",
    "plt.plot(port_EMV['Vol'], port_EMV['Media'], '*r', label='Port. EMV')\n",
    "# Min var\n",
    "plt.plot(port_minvar['Vol'], port_minvar['Media'], '*b', label='Port. Min. Var')\n",
    "plt.xlabel('Volatilidad $\\sigma$')\n",
    "plt.ylabel('Rendimiento esperado $E[r]$')\n",
    "plt.legend(loc='best')\n",
    "plt.grid()\n",
    "plt.colorbar()\n",
    "plt.axis([0.06, 0.11, 0., 0.012])"
   ]
  },
  {
   "cell_type": "markdown",
   "metadata": {},
   "source": [
    "## 3. Comparar con los resultados obtenidos por optimización"
   ]
  },
  {
   "cell_type": "markdown",
   "metadata": {},
   "source": [
    "3.1. Portafolio de mínima varianza"
   ]
  },
  {
   "cell_type": "code",
   "execution_count": 50,
   "metadata": {},
   "outputs": [],
   "source": [
    "# Importamos funcion minimize del modulo optimize de scipy\n",
    "from scipy.optimize import minimize"
   ]
  },
  {
   "cell_type": "code",
   "execution_count": 51,
   "metadata": {},
   "outputs": [
    {
     "data": {
      "text/plain": [
       "array([0.00293452, 0.00962113, 0.00909761])"
      ]
     },
     "execution_count": 51,
     "metadata": {},
     "output_type": "execute_result"
    }
   ],
   "source": [
    "## Construcción de parámetros\n",
    "# 1. Sigma: matriz de varianza-covarianza\n",
    "Sigma = Sigma.values\n",
    "# 2. Eind: rendimientos esperados activos individuales\n",
    "Eind"
   ]
  },
  {
   "cell_type": "code",
   "execution_count": 52,
   "metadata": {},
   "outputs": [],
   "source": [
    "# Función objetivo\n",
    "def var(w, Sigma):\n",
    "    return w.T.dot(Sigma).dot(w)"
   ]
  },
  {
   "cell_type": "code",
   "execution_count": 53,
   "metadata": {},
   "outputs": [],
   "source": [
    "# Dato inicial\n",
    "w0 = np.ones((n_act, )) / n_act\n",
    "# Cotas de las variables\n",
    "bnds = ((0, 1), ) * n_act\n",
    "# Restricciones\n",
    "cons = {'type': 'eq', 'fun': lambda w: w.sum() - 1}"
   ]
  },
  {
   "cell_type": "code",
   "execution_count": 54,
   "metadata": {},
   "outputs": [],
   "source": [
    "# Portafolio Min var\n",
    "minvar = minimize(fun=var,\n",
    "                  x0=w0,\n",
    "                  args=(Sigma,),\n",
    "                  bounds=bnds,\n",
    "                  constraints=cons\n",
    "                 )"
   ]
  },
  {
   "cell_type": "code",
   "execution_count": 55,
   "metadata": {},
   "outputs": [
    {
     "data": {
      "text/plain": [
       "     fun: 0.0037795494167769707\n",
       "     jac: array([0.00753468, 0.00748664, 0.00765602])\n",
       " message: 'Optimization terminated successfully.'\n",
       "    nfev: 25\n",
       "     nit: 5\n",
       "    njev: 5\n",
       "  status: 0\n",
       " success: True\n",
       "       x: array([0.1035744 , 0.49801086, 0.39841474])"
      ]
     },
     "execution_count": 55,
     "metadata": {},
     "output_type": "execute_result"
    }
   ],
   "source": [
    "# Comparar\n",
    "minvar"
   ]
  },
  {
   "cell_type": "code",
   "execution_count": 56,
   "metadata": {},
   "outputs": [
    {
     "data": {
      "text/plain": [
       "w(CEMEX)      0.106574\n",
       "w(GCARSO)     0.508870\n",
       "w(GFNORTE)    0.384556\n",
       "Media         0.008707\n",
       "Vol           0.061469\n",
       "RS            0.074544\n",
       "Name: 949101, dtype: float64"
      ]
     },
     "execution_count": 56,
     "metadata": {},
     "output_type": "execute_result"
    }
   ],
   "source": [
    "port_minvar"
   ]
  },
  {
   "cell_type": "markdown",
   "metadata": {},
   "source": [
    "3.2. Portafolio EMV"
   ]
  },
  {
   "cell_type": "code",
   "execution_count": null,
   "metadata": {},
   "outputs": [],
   "source": [
    "# Función objetivo\n"
   ]
  },
  {
   "cell_type": "code",
   "execution_count": null,
   "metadata": {},
   "outputs": [],
   "source": [
    "# Dato inicial\n",
    "\n",
    "# Cotas de las variables\n",
    "\n",
    "# Restricciones\n"
   ]
  },
  {
   "cell_type": "code",
   "execution_count": null,
   "metadata": {},
   "outputs": [],
   "source": [
    "# Portafolio EMV\n"
   ]
  },
  {
   "cell_type": "code",
   "execution_count": null,
   "metadata": {},
   "outputs": [],
   "source": [
    "# Comparar\n"
   ]
  },
  {
   "cell_type": "markdown",
   "metadata": {},
   "source": [
    "# Conclusión\n",
    "\n",
    "- Tenemos una herramienta para aproximar toda la teoría de Markowitz.\n",
    "\n",
    "- Esta herramienta no involucra optimización, solo generar números aleatorios normalizados.\n",
    "\n",
    "- Por tanto, no le afecta el problema de dimensión (cuando tenemos muchos activos)."
   ]
  },
  {
   "cell_type": "markdown",
   "metadata": {},
   "source": [
    "## Esto lo usarán en la actividad en conjunto con las demás herramientas vistas en el módulo 3 (LAC, distribución óptima de capital)."
   ]
  },
  {
   "cell_type": "markdown",
   "metadata": {},
   "source": [
    "<script>\n",
    "  $(document).ready(function(){\n",
    "    $('div.prompt').hide();\n",
    "    $('div.back-to-top').hide();\n",
    "    $('nav#menubar').hide();\n",
    "    $('.breadcrumb').hide();\n",
    "    $('.hidden-print').hide();\n",
    "  });\n",
    "</script>\n",
    "\n",
    "<footer id=\"attribution\" style=\"float:right; color:#808080; background:#fff;\">\n",
    "Created with Jupyter by Esteban Jiménez Rodríguez.\n",
    "</footer>"
   ]
  }
 ],
 "metadata": {
  "kernelspec": {
   "display_name": "Python 3",
   "language": "python",
   "name": "python3"
  },
  "language_info": {
   "codemirror_mode": {
    "name": "ipython",
    "version": 3
   },
   "file_extension": ".py",
   "mimetype": "text/x-python",
   "name": "python",
   "nbconvert_exporter": "python",
   "pygments_lexer": "ipython3",
   "version": "3.7.6"
  }
 },
 "nbformat": 4,
 "nbformat_minor": 2
}
