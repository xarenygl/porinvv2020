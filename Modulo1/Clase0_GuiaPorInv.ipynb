{
 "cells": [
  {
   "cell_type": "markdown",
   "metadata": {},
   "source": [
    "___\n",
    "<img style=\"float: right; margin: 0px 0px 15px 15px;\" src=\"https://upload.wikimedia.org/wikipedia/commons/0/08/Pareto_Efficient_Frontier_for_the_Markowitz_Portfolio_selection_problem..png\" width=\"300px\" height=\"100px\" />\n",
    "\n",
    "\n",
    "# <font color= #8A0829> Portafolios de Inversión.</font>\n",
    "#### <font color= #2E9AFE>  `Lunes, Martes, Miércoles, Jueves (Videoconferencia) de 16:00 - 18:00 hrs`</font>\n",
    "- <Strong> Esteban Jiménez Rodríguez </Strong>\n",
    "- <Strong> Año </Strong>: 2020\n",
    "- <Strong> Copyright: </Strong> MIT (Exepto donde se indique lo contrario)\n",
    "\n",
    "- <Strong> Email: </Strong>  <font color=\"blue\"> `esjimenezro@iteso.mx, esjimenezro@gmail.com` </font>\n",
    "___"
   ]
  },
  {
   "cell_type": "markdown",
   "metadata": {},
   "source": [
    "### `Presentación mia`\n",
    "___"
   ]
  },
  {
   "cell_type": "markdown",
   "metadata": {},
   "source": [
    "### `Presentación de ustedes`\n",
    "___"
   ]
  },
  {
   "cell_type": "markdown",
   "metadata": {},
   "source": [
    "### `Algunas reglas de juego`\n",
    "\n",
    "[Normas mínimas disciplinarias](https://www.dropbox.com/s/sbez0e0rv34na14/NORMAS_MINIMAS_DISCIPLINARIAS.pdf?dl=0)\n"
   ]
  },
  {
   "cell_type": "markdown",
   "metadata": {},
   "source": [
    "### `Horario de asesoría`\n",
    "\n",
    "Terminando clase.\n",
    "___"
   ]
  },
  {
   "cell_type": "markdown",
   "metadata": {},
   "source": [
    "### `Descripción de la asignatura`\n",
    "\n",
    "*Cuando un inversionista se encuentra con un problema de selección de portafolio, el número de activos y sus combinaciones puede ser abrumador.En este curso aprenderás los principios básicos que sustentan la construcción óptima de portafolios, el principio de diversificación y administración de riesgo.*\n",
    "\n",
    "- Inicialmente, adquirirás las herramientas para la caracterización rentabilidad/riesgo de un inversionista;\n",
    "- luego, analizarás como un problema de selección de portafolio puede ser analíticamente estructurado, como puede ser resuelto y como implementar la elección de portafolio óptima; \n",
    "- por último, aprenderás acerca de los principales modelos de precios para precios de activos en equilibrio."
   ]
  },
  {
   "cell_type": "markdown",
   "metadata": {},
   "source": [
    "#### `OBJETIVO GENERAL `\n",
    ">  <p style='text-align: justify;'> A partir de las medidas de rentabilidad y riesgo para portafolios, entender las ideas principales de la teoría de portafolios moderna (Markowitz) e identificar portafolios óptimos que administren el riesgo de manera eficiente. Además, resolver el problema de selección óptima de portafolio para una caracterización rentabilidad/riesgo de un inversionista. Finalmente, describir y usar modelos de precio de activos en equilibrio.</p>"
   ]
  },
  {
   "cell_type": "markdown",
   "metadata": {},
   "source": [
    "`Módulo 1.` **Introducción. Rentabilidad y riesgo de un activo.**\n",
    "\n",
    "> En este módulo se presentan los contenidos del curso, la forma de calificar, las reglas básicas de juego y las herramientas computacionales. También, aprenderás a desarrollar medidas de rendimiento y medidas de riesgo para activos, conociendo la distribución de probabilidad de los posibles eventos en el mercado. Aprenderás también a obtener dichas medidas a partir de datos históricos, y discutiremos su validez. Finalmente, entenderás uno de los principales principios de inversión: mayor rentabilidad esperada tiene como precio asumir más riesgo.\n",
    "\n",
    "   1. ¿Qué es un portafolio? \n",
    "    - Lenguaje de trabajo (Phyton). Tarea 1.\n",
    "   2. Manejo básico de datos con pandas.\n",
    "    - Tarea 2.\n",
    "   3. Rentabilidad vs. Riesgo. ¿Cómo medirlos?\n",
    "    - Quiz la próxima clase.\n",
    "   4. Midiendo rentabilidad y riesgo (datos históricos) I. \n",
    "    - Tarea 3.\n",
    "   5. Midiendo rentabilidad y riesgo (datos históricos) II.\n",
    "    - Quiz la próxima clase."
   ]
  },
  {
   "cell_type": "markdown",
   "metadata": {},
   "source": [
    "`Módulo 2.`  **Construcción de portafolios y diversificación.**\n",
    "\n",
    "> En este módulo desarrollarás medidas de rentabilidad y riesgo de un portafolio, con base en las herramientas que desarrollamos en el módulo anterior. Definimos y clasificamos las distintas fuentes de riesgo, y discutimos el concepto de diversificación: ¿cómo es que reuniendo activos riesgosos en un portafolio se elimina el riesgo y se obtiene un portafolio con menos riesgo que sus componentes? Revisamos también una herramienta cuantitativa que nos permite identificar el mejor portafolio en términos de riesgo para un nivel dado de rentabilidad esperada.\n",
    "\n",
    "   1. ¿Cómo medir rentabilidad y riesgo en un portafolio? I. \n",
    "    - Tarea 4.\n",
    "   2. ¿Cómo medir rentabilidad y riesgo en un portafolio? II. \n",
    "    - Quiz la próxima clase.\n",
    "   3. Diversificación y fuentes de riesgo en un portafolio.\n",
    "    - Tarea 5.\n",
    "   4. Problema básico de elección óptima de portafolio.\n",
    "    - Quiz la próxima clase.\n",
    "   5. Clase de repaso.\n",
    "   6. Evaluación 1."
   ]
  },
  {
   "cell_type": "markdown",
   "metadata": {},
   "source": [
    "`Módulo 3.`  **Preferencias de media-varianza y selección óptima de portafolios.**\n",
    "\n",
    "> En este módulo aprenderás cómo un inversionista toma decisiones. Específicamente revisaremos como funciones de penalización/utilidad se usan para expresar las preferencias (media-varianza, posición frente al riesgo) explícitas de un inversionista, con base en las medidas que desarrollamos en los módulos previos. Aprenderás, también, acerca de optimización media-varianza (idea revolucionaria de Markowitz): ¿cómo distribuir de forma óptima el capital (selección de portafolio) dadas preferencias media-varianza? Describiremos formalmente el problema de selección óptima de portafolio y cómo solucionarlo.\n",
    "\n",
    "   1. Funciones de utilidad y aversión al riesgo.\n",
    "    - Quiz al final de la clase.\n",
    "   2. Problema de selección de portafolio con preferencias de media-varianza.\n",
    "    - Quiz la próxima clase.\n",
    "   3. Optimización media-varianza.\n",
    "    - Quiz la próxima clase.\n",
    "   4. Selección óptima de portafolio I. \n",
    "    - Tarea 6.\n",
    "   5. Selección óptima de portafolio II.\n",
    "   6. Comentarios acerca de optimización media-varianza.\n",
    "    - Quiz la próxima clase. Descripción proyecto.\t"
   ]
  },
  {
   "cell_type": "markdown",
   "metadata": {},
   "source": [
    "`Módulo 4.`  **Modelos de precio de activos en equilibrio.**\n",
    "\n",
    "> En este módulo trabajaremos sobre los conocimientos adquiridos de la ‘’Teoría de portafolios moderna’’ (módulos anteriores) para entender como el riesgo y el rendimiento se relacionan en el equilibrio. Primero estudiaremos el modelo principal en finanzas, el modelo de fijación de precios de activos de capital (CAPM), y discutiremos la relación entre rendimiento esperado y beta. Luego revisamos modelos de factores múltiples, como el Fama-French de tres factores.\n",
    "\n",
    "   1. CAPM I.\n",
    "    - Tarea 7.\n",
    "   2. CAPM II.\n",
    "    - Quiz la próxima clase.\n",
    "   3. Modelos multi-factor.\n",
    "    - Quiz la próxima clase.\n",
    "   4. Clase de repaso. \n",
    "   5. Evaluación 2.\n",
    "   6. Presentación proyecto.\t"
   ]
  },
  {
   "cell_type": "markdown",
   "metadata": {},
   "source": [
    "### `Evaluación`\n",
    "\n",
    "- **7 Tareas 28%**\n",
    " - La evaluación de cada tarea se divide en dos partes \n",
    "   - Primera entrega     30%\n",
    "   - Segunda entrega     70% \n",
    "   - DEBEN REALIZAR AMBAS ENTREGAS.\n",
    "- **2 Evaluaciones 40%**\n",
    "- **9 Quices 18%**\n",
    "- **Proyecto 14%**"
   ]
  },
  {
   "cell_type": "markdown",
   "metadata": {},
   "source": [
    "### `Bibliografía `"
   ]
  },
  {
   "cell_type": "markdown",
   "metadata": {},
   "source": [
    "> ```\n",
    "- Investment Mathematics by Adams, Andrew\n",
    "- Portfolio Selection by Markowitz, Harry \n",
    "- RIESGOS FINANCIEROS Y ECONÓMICOS: Productos derivados y decisiones económicas bajo incertidumbre by Venegas Martínez, Jorge. ```\n",
    "Estos y muchos mas libros los pueden encontrar en la Biblioteca."
   ]
  },
  {
   "cell_type": "markdown",
   "metadata": {},
   "source": [
    "<script>\n",
    "  $(document).ready(function(){\n",
    "    $('div.prompt').hide();\n",
    "    $('div.back-to-top').hide();\n",
    "    $('nav#menubar').hide();\n",
    "    $('.breadcrumb').hide();\n",
    "    $('.hidden-print').hide();\n",
    "  });\n",
    "</script>\n",
    "\n",
    "<footer id=\"attribution\" style=\"float:right; color:#808080; background:#fff;\">\n",
    "Created with Jupyter by Esteban Jiménez Rodríguez.\n",
    "</footer>"
   ]
  }
 ],
 "metadata": {
  "anaconda-cloud": {},
  "kernelspec": {
   "display_name": "Python 3",
   "language": "python",
   "name": "python3"
  },
  "language_info": {
   "codemirror_mode": {
    "name": "ipython",
    "version": 3
   },
   "file_extension": ".py",
   "mimetype": "text/x-python",
   "name": "python",
   "nbconvert_exporter": "python",
   "pygments_lexer": "ipython3",
   "version": "3.7.6"
  }
 },
 "nbformat": 4,
 "nbformat_minor": 1
}
